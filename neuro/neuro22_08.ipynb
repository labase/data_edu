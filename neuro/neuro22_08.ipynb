{
 "cells": [
  {
   "cell_type": "markdown",
   "source": [
    "# Fundamentos da Neuropedagogia Computacional\n",
    "    This file is part of program Activ Spyder\n",
    "    Copyright © 2022 Carlo Oliveira carlo@nce.ufrj.br,\n",
    "    Labase <http://labase.selfip.org/>; GPL <http://is.gd/3Udt>.\n",
    "    SPDX-License-Identifier: (GPLv3-or-later AND LGPL-2.0-only) WITH bison-exception\n",
    "\n",
    "## Análise dos dados do documento de especificação -\n",
    "    Inpeciona e gera estatísticas sobre o texto de especificação.\n",
    "[!NOTE]\n",
    "codeauthor:: Carlo Oliveira [carlo at ufrj](mailto:carlo@ufrj.br)\n",
    "\n",
    "## Changelog\n",
    "\n",
    "<!--![version added](https://raw.githubusercontent.com/FortAwesome/Font-Awesome/6.x/svgs/solid/circle-plus.svg)  22.06-->\n",
    "<img src=\"https://raw.githubusercontent.com/FortAwesome/Font-Awesome/6.x/svgs/solid/circle-plus.svg\" width=16/>  22.08\n",
    "\n",
    "* Criação do raspador de página.\n",
    "* Desenho do grafo com os nós coloridos\n",
    "\n",
    "<img src=\"https://raw.githubusercontent.com/FortAwesome/Font-Awesome/6.x/svgs/solid/circle-plus.svg\" width=16/>  22.09\n",
    "\n",
    "* Preparação para vértices coloridos.\n",
    "\n",
    "## Obtendo os dados do Github\n",
    "O arquivo de especificação é guardado na página [Conteúdo Processo](https://activufrj.nce.ufrj.br/wiki/NEUROPEDAGOGIA_COMPUTACIONAL_CONTEUDO_PROCESSO/Relatorio_1). Este arquivo foi Produzido pelos pesquisadores para especificar a área."
   ],
   "metadata": {
    "collapsed": false,
    "pycharm": {
     "name": "#%% md\n"
    }
   }
  },
  {
   "cell_type": "code",
   "execution_count": null,
   "outputs": [],
   "source": [
    "STOPWORDS = \"https://gitlab.com/cetoli/spike/-/raw/master/src/neurocomp/conf/stopwords.txt\"\n",
    "ESPECIFICA = \"http://activufrj.nce.ufrj.br/raw/wiki/NEUROPEDAGOGIA_COMPUTACIONAL_CONTEUDO_PROCESSO/Relatorio_01\"\n",
    "\"\"\"Remove as stopwords da especificação\"\"\"\n",
    "from urllib.request import urlopen\n",
    "from collections import Counter\n",
    "class Text:\n",
    "    TEXT = None\n",
    "    def __int__(self):\n",
    "        Text.TEXT = self if not Text.TEXT else Text.TEXT\n",
    "        self.original = None\n",
    "        self.clean = None\n",
    "\n",
    "\n",
    "with urlopen(ESPECIFICA) as response, urlopen(STOPWORDS) as stopword :\n",
    "    tx = Text()\n",
    "    Text.TEXT = tx\n",
    "    body = response.read().lower().decode('utf-8')\n",
    "    stop = stopword.read().decode('utf-8').split()\n",
    "    stop.append(\"através\")\n",
    "    list_body = body.split()\n",
    "    # print(list_body[:40])\n",
    "    # clean = [u\"{}\".format(word) for word in list_body if word not in stop]\n",
    "    clean = [word for word in list_body if (word not in stop)\n",
    "             and (\"\\xa0\" not in word) and (\"<\" not in word) and (word.isalpha())]\n",
    "    # print(clean[:40])\n",
    "    tx.clean = count = Counter(clean)\n",
    "    tup = list(count.items())\n",
    "    tup.sort(key = lambda x: x[1], reverse=True)\n",
    "    print(tup[:100])"
   ],
   "metadata": {
    "collapsed": false,
    "pycharm": {
     "name": "#%%\n"
    }
   }
  },
  {
   "cell_type": "markdown",
   "source": [
    "# Varredura do texto\n",
    "\n",
    "O texto será percorrido usando uma janela de pertinência centrada em cada palavra"
   ],
   "metadata": {
    "collapsed": false,
    "pycharm": {
     "name": "#%% md\n"
    }
   }
  },
  {
   "cell_type": "code",
   "execution_count": null,
   "outputs": [],
   "source": [
    "class SurveyText:\n",
    "    def __init__(self, text_dictionary, relevancy=2):\n",
    "        def strip(w):\n",
    "            return w[:-1] if w.endswith(\"s\") else w\n",
    "        self.text = text_dictionary\n",
    "        self.relevant = [strip(word) for word, cnt in self.text.items() if cnt >= relevancy]\n",
    "        self.pairs, self.levels = {}, {}\n",
    "\n",
    "    def survey(self, window=10):\n",
    "        size = len(self.relevant)\n",
    "        for here, word in enumerate(self.relevant):\n",
    "            start = here - window if here >= window else 0\n",
    "            ender = here + window if here+window <= size else size\n",
    "            for other in self.relevant[start:ender]:\n",
    "                if other == word:\n",
    "                    continue\n",
    "                entry = (other, word) if other < word else (word, other)\n",
    "                self.pairs[entry] = self.pairs.setdefault(entry, 0) + 1\n",
    "        self.levels = Counter([i for (i, j), _ in self.pairs.items()])\n",
    "        levels = Counter([j for (i, j), _  in self.pairs.items()])\n",
    "        levels.update({key: value for key, value in self.levels.items() if key not in levels})\n",
    "        levels = {key: (levels[key] + self.levels.setdefault(key, 0)) for key in levels}\n",
    "        self.levels = {key: value//6-1 for key, value in levels.items() if value>8}\n",
    "\n",
    "    def nodes(self, relevancy=2):\n",
    "        # node = {name[0]: good for name, good in self.pairs.items() if good>relevancy}\n",
    "        relevant = {na: good for (na, _), good in self.pairs.items() if good>relevancy}\n",
    "        relevant.update({na: good for (_, na), good in self.pairs.items() if good>relevancy})\n",
    "        node = {name: good for name, good in self.levels.items() if name in relevant}\n",
    "        node = ({nd: cnt for nd, cnt in self.levels.items() if nd in node})\n",
    "        # node.update({name[1]: good if good > node.setdefault(name[1], 0) else node[name[1]]\n",
    "        #              for name, good in self.pairs.items() if good>relevancy})\n",
    "        # return node.keys()\n",
    "        # return node.items()\n",
    "        # return self.levels.items()\n",
    "        return node.items()\n",
    "\n",
    "    def show(self, relevancy=2):\n",
    "        tuple_list = list(self.pairs.items())\n",
    "        # tuple_list = tuple_list.sort(key = lambda x: x[1], reverse=True)\n",
    "        tuple_list = sorted(tuple_list, key = lambda x: x[1], reverse=True)\n",
    "        _list = [(_tuple[0], _tuple[1], good) for _tuple, good in tuple_list if good>relevancy]\n",
    "        return _list\n",
    "\n",
    "\n",
    "st = SurveyText(Text.TEXT.clean)\n",
    "st.survey(20)\n",
    "print(st.show())  # [:200])\n",
    "# print(st.nodes())"
   ],
   "metadata": {
    "collapsed": false,
    "pycharm": {
     "name": "#%%\n"
    }
   }
  },
  {
   "cell_type": "code",
   "execution_count": null,
   "outputs": [],
   "source": [
    "import networkx as nx  # importing networkx package\n",
    "import matplotlib.pyplot as plt # importing matplotlib package and pyplot is for displaying the graph on canvas\n",
    "colors = {wg: cl for wg, cl in enumerate(\"yccmmbgrrrrrrrr\")}\n",
    "plt.rcParams[\"figure.figsize\"] = [15.50, 8.50]\n",
    "plt.rcParams[\"figure.autolayout\"] = True\n",
    "wg=nx.Graph()\n",
    "_ = [wg.add_node(node, size=size) for node, size in st.nodes()]\n",
    "_ = [wg.add_edge(a, b,color=colors[w], weight=w ) for a, b, w in st.show()]\n",
    "sizes = [wg.nodes[s]['size']*100 for s in wg.nodes]\n",
    "color = [colors[wg.nodes[s]['size']] for s in wg.nodes]\n",
    "\n",
    "'''Node can be called by any python-hashable obj like string,number etc'''\n",
    "nx.draw(wg, with_labels = True, node_size=sizes, node_color=color)  #draws the networkx graph containing nodes which are declared till before\n",
    "plt.show()  # displays the networkx graph on matplotlib canvas\n"
   ],
   "metadata": {
    "collapsed": false,
    "pycharm": {
     "name": "#%%\n"
    }
   }
  },
  {
   "cell_type": "markdown",
   "source": [
    "## Grafo em 3D\n"
   ],
   "metadata": {
    "collapsed": false,
    "pycharm": {
     "name": "#%% md\n"
    }
   }
  },
  {
   "cell_type": "code",
   "execution_count": null,
   "outputs": [],
   "source": [],
   "metadata": {
    "collapsed": false,
    "pycharm": {
     "name": "#%%\n"
    }
   }
  }
 ],
 "metadata": {
  "kernelspec": {
   "display_name": "Python 3",
   "language": "python",
   "name": "python3"
  },
  "language_info": {
   "codemirror_mode": {
    "name": "ipython",
    "version": 2
   },
   "file_extension": ".py",
   "mimetype": "text/x-python",
   "name": "python",
   "nbconvert_exporter": "python",
   "pygments_lexer": "ipython2",
   "version": "2.7.6"
  }
 },
 "nbformat": 4,
 "nbformat_minor": 0
}