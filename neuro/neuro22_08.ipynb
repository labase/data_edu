{
 "cells": [
  {
   "cell_type": "markdown",
   "source": [
    "# Fundamentos da Neuropedagogia Computacional\n",
    "    This file is part of program Activ Spyder\n",
    "    Copyright © 2022 Carlo Oliveira carlo@nce.ufrj.br,\n",
    "    Labase <http://labase.selfip.org/>; GPL <http://is.gd/3Udt>.\n",
    "    SPDX-License-Identifier: (GPLv3-or-later AND LGPL-2.0-only) WITH bison-exception\n",
    "\n",
    "## Análise dos dados do documento de especificação -\n",
    "    Inpeciona e gera estatísticas sobre o texto de especificação.\n",
    "[!NOTE]\n",
    "codeauthor:: Carlo Oliveira [carlo at ufrj](mailto:carlo@ufrj.br)\n",
    "\n",
    "## Changelog\n",
    "\n",
    "<!--![version added](https://raw.githubusercontent.com/FortAwesome/Font-Awesome/6.x/svgs/solid/circle-plus.svg)  22.06-->\n",
    "<img src=\"https://raw.githubusercontent.com/FortAwesome/Font-Awesome/6.x/svgs/solid/circle-plus.svg\" width=16/>  22.08\n",
    "\n",
    "* Criação do raspador de página.\n",
    "## Obtendo os dados do Github\n",
    "O arquivo de especificação é guardado na página [Conteúdo Processo](https://activufrj.nce.ufrj.br/wiki/NEUROPEDAGOGIA_COMPUTACIONAL_CONTEUDO_PROCESSO/Relatorio_1). Este arquivo foi Produzido pelos pesquisadores para especificar a área."
   ],
   "metadata": {
    "collapsed": false,
    "pycharm": {
     "name": "#%% md\n"
    }
   }
  },
  {
   "cell_type": "code",
   "execution_count": null,
   "outputs": [],
   "source": [
    "STOPWORDS = \"https://gitlab.com/cetoli/spike/-/raw/master/src/neurocomp/conf/stopwords.txt\"\n",
    "ESPECIFICA = \"http://activufrj.nce.ufrj.br/wiki/NEUROPEDAGOGIA_COMPUTACIONAL_CONTEUDO_PROCESSO/Relatorio_1\"\n",
    "\"\"\"Remove as stopwords da especificação\"\"\"\n",
    "from urllib.request import urlopen\n",
    "with urlopen(ESPECIFICA) as response, urlopen(STOPWORDS) as stopword :\n",
    "    body = response.read()\n",
    "    stop = stopword.read()"
   ],
   "metadata": {
    "collapsed": false,
    "pycharm": {
     "name": "#%%\n"
    }
   }
  }
 ],
 "metadata": {
  "kernelspec": {
   "display_name": "Python 3",
   "language": "python",
   "name": "python3"
  },
  "language_info": {
   "codemirror_mode": {
    "name": "ipython",
    "version": 2
   },
   "file_extension": ".py",
   "mimetype": "text/x-python",
   "name": "python",
   "nbconvert_exporter": "python",
   "pygments_lexer": "ipython2",
   "version": "2.7.6"
  }
 },
 "nbformat": 4,
 "nbformat_minor": 0
}