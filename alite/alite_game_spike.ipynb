{
 "cells": [
  {
   "cell_type": "markdown",
   "source": [
    "# Estatísticas do Jogos da plataforma Alite"
   ],
   "metadata": {
    "collapsed": false,
    "pycharm": {
     "name": "#%% md\n"
    }
   }
  },
  {
   "cell_type": "markdown",
   "source": [
    "## Recebe dados dos games de alite e converte para dataframe"
   ],
   "metadata": {
    "collapsed": false,
    "pycharm": {
     "name": "#%% md\n"
    }
   }
  },
  {
   "cell_type": "code",
   "execution_count": 92,
   "outputs": [
    {
     "name": "stdout",
     "output_type": "stream",
     "text": [
      "                                    _id                name   ano       sexo  \\\n",
      "0  ObjectId('6477ce20f626d3cb95e08c8f')               admin  ano1  masculino   \n",
      "1  ObjectId('6477cf19f626d3cb95e08c92')               outro  ano2   feminino   \n",
      "2  ObjectId('647b8008f626d3cb95e08c98')         Pedro Lomba  ano9  masculino   \n",
      "3  ObjectId('647b85f9f626d3cb95e08c9b')              daniel  ano9  masculino   \n",
      "4  ObjectId('647b86cbf626d3cb95e08c9d')            kduzinho  ano1  masculino   \n",
      "5  ObjectId('647b8f68f626d3cb95e08c9f')  Carolina Fantinato  ano9   feminino   \n",
      "6  ObjectId('647fa41a442f27c3f236c16c')              labase  ano1  masculino   \n",
      "\n",
      "    idade                              time  \\\n",
      "0  anos10  2023-05-31 19:45:52.561244-03:00   \n",
      "1   anos9  2023-05-31 19:50:01.899904-03:00   \n",
      "2  anos10  2023-06-03 15:01:44.637563-03:00   \n",
      "3  anos10  2023-06-03 15:27:05.449207-03:00   \n",
      "4   anos1  2023-06-03 15:30:35.506478-03:00   \n",
      "5  anos10  2023-06-03 16:07:20.229405-03:00   \n",
      "6   anos1  2023-06-06 18:24:42.655420-03:00   \n",
      "\n",
      "                                               games  \n",
      "0  [{'game': 'wcst', 'goal': 0, 'trial': 0, 'scor...  \n",
      "1  [{'game': 'wcst', 'goal': 0, 'trial': 0, 'scor...  \n",
      "2  [{'game': 'game', 'goal': 0, 'trial': 0, 'scor...  \n",
      "3  [{'game': 'wcst', 'goal': 0, 'trial': 0, 'scor...  \n",
      "4  [{'game': 'game', 'goal': 0, 'trial': 0, 'scor...  \n",
      "5  [{'game': 'game', 'goal': 0, 'trial': 0, 'scor...  \n",
      "6  [{'game': 'game', 'goal': 0, 'trial': 0, 'scor...  \n"
     ]
    }
   ],
   "source": [
    "import urllib.request, json\n",
    "import pandas as pd\n",
    "\n",
    "furl = 'https://games.alite.selfip.org/score/players'\n",
    "with urllib.request.urlopen(furl) as url:\n",
    "    data = json.loads(url.read().decode())\n",
    "    df = pd.DataFrame(data)\n",
    "print(df)"
   ],
   "metadata": {
    "collapsed": false,
    "pycharm": {
     "name": "#%%\n"
    }
   }
  },
  {
   "cell_type": "markdown",
   "source": [
    "## Converte lista de dicionários numa lista de nomes dos jogos"
   ],
   "metadata": {
    "collapsed": false,
    "pycharm": {
     "name": "#%% md\n"
    }
   }
  },
  {
   "cell_type": "code",
   "execution_count": 93,
   "outputs": [
    {
     "data": {
      "text/plain": "                                    _id                name   ano       sexo  \\\n0  ObjectId('6477ce20f626d3cb95e08c8f')               admin  ano1  masculino   \n1  ObjectId('6477cf19f626d3cb95e08c92')               outro  ano2   feminino   \n2  ObjectId('647b8008f626d3cb95e08c98')         Pedro Lomba  ano9  masculino   \n3  ObjectId('647b85f9f626d3cb95e08c9b')              daniel  ano9  masculino   \n4  ObjectId('647b86cbf626d3cb95e08c9d')            kduzinho  ano1  masculino   \n5  ObjectId('647b8f68f626d3cb95e08c9f')  Carolina Fantinato  ano9   feminino   \n6  ObjectId('647fa41a442f27c3f236c16c')              labase  ano1  masculino   \n\n    idade                              time  \\\n0  anos10  2023-05-31 19:45:52.561244-03:00   \n1   anos9  2023-05-31 19:50:01.899904-03:00   \n2  anos10  2023-06-03 15:01:44.637563-03:00   \n3  anos10  2023-06-03 15:27:05.449207-03:00   \n4   anos1  2023-06-03 15:30:35.506478-03:00   \n5  anos10  2023-06-03 16:07:20.229405-03:00   \n6   anos1  2023-06-06 18:24:42.655420-03:00   \n\n                                               games                   games_l  \n0  [{'game': 'wcst', 'goal': 0, 'trial': 0, 'scor...              [wcst, game]  \n1  [{'game': 'wcst', 'goal': 0, 'trial': 0, 'scor...  [wcst, wcst, game, game]  \n2  [{'game': 'game', 'goal': 0, 'trial': 0, 'scor...                    [game]  \n3  [{'game': 'wcst', 'goal': 0, 'trial': 0, 'scor...                    [wcst]  \n4  [{'game': 'game', 'goal': 0, 'trial': 0, 'scor...                    [game]  \n5  [{'game': 'game', 'goal': 0, 'trial': 0, 'scor...                    [game]  \n6  [{'game': 'game', 'goal': 0, 'trial': 0, 'scor...              [game, wcst]  ",
      "text/html": "<div>\n<style scoped>\n    .dataframe tbody tr th:only-of-type {\n        vertical-align: middle;\n    }\n\n    .dataframe tbody tr th {\n        vertical-align: top;\n    }\n\n    .dataframe thead th {\n        text-align: right;\n    }\n</style>\n<table border=\"1\" class=\"dataframe\">\n  <thead>\n    <tr style=\"text-align: right;\">\n      <th></th>\n      <th>_id</th>\n      <th>name</th>\n      <th>ano</th>\n      <th>sexo</th>\n      <th>idade</th>\n      <th>time</th>\n      <th>games</th>\n      <th>games_l</th>\n    </tr>\n  </thead>\n  <tbody>\n    <tr>\n      <th>0</th>\n      <td>ObjectId('6477ce20f626d3cb95e08c8f')</td>\n      <td>admin</td>\n      <td>ano1</td>\n      <td>masculino</td>\n      <td>anos10</td>\n      <td>2023-05-31 19:45:52.561244-03:00</td>\n      <td>[{'game': 'wcst', 'goal': 0, 'trial': 0, 'scor...</td>\n      <td>[wcst, game]</td>\n    </tr>\n    <tr>\n      <th>1</th>\n      <td>ObjectId('6477cf19f626d3cb95e08c92')</td>\n      <td>outro</td>\n      <td>ano2</td>\n      <td>feminino</td>\n      <td>anos9</td>\n      <td>2023-05-31 19:50:01.899904-03:00</td>\n      <td>[{'game': 'wcst', 'goal': 0, 'trial': 0, 'scor...</td>\n      <td>[wcst, wcst, game, game]</td>\n    </tr>\n    <tr>\n      <th>2</th>\n      <td>ObjectId('647b8008f626d3cb95e08c98')</td>\n      <td>Pedro Lomba</td>\n      <td>ano9</td>\n      <td>masculino</td>\n      <td>anos10</td>\n      <td>2023-06-03 15:01:44.637563-03:00</td>\n      <td>[{'game': 'game', 'goal': 0, 'trial': 0, 'scor...</td>\n      <td>[game]</td>\n    </tr>\n    <tr>\n      <th>3</th>\n      <td>ObjectId('647b85f9f626d3cb95e08c9b')</td>\n      <td>daniel</td>\n      <td>ano9</td>\n      <td>masculino</td>\n      <td>anos10</td>\n      <td>2023-06-03 15:27:05.449207-03:00</td>\n      <td>[{'game': 'wcst', 'goal': 0, 'trial': 0, 'scor...</td>\n      <td>[wcst]</td>\n    </tr>\n    <tr>\n      <th>4</th>\n      <td>ObjectId('647b86cbf626d3cb95e08c9d')</td>\n      <td>kduzinho</td>\n      <td>ano1</td>\n      <td>masculino</td>\n      <td>anos1</td>\n      <td>2023-06-03 15:30:35.506478-03:00</td>\n      <td>[{'game': 'game', 'goal': 0, 'trial': 0, 'scor...</td>\n      <td>[game]</td>\n    </tr>\n    <tr>\n      <th>5</th>\n      <td>ObjectId('647b8f68f626d3cb95e08c9f')</td>\n      <td>Carolina Fantinato</td>\n      <td>ano9</td>\n      <td>feminino</td>\n      <td>anos10</td>\n      <td>2023-06-03 16:07:20.229405-03:00</td>\n      <td>[{'game': 'game', 'goal': 0, 'trial': 0, 'scor...</td>\n      <td>[game]</td>\n    </tr>\n    <tr>\n      <th>6</th>\n      <td>ObjectId('647fa41a442f27c3f236c16c')</td>\n      <td>labase</td>\n      <td>ano1</td>\n      <td>masculino</td>\n      <td>anos1</td>\n      <td>2023-06-06 18:24:42.655420-03:00</td>\n      <td>[{'game': 'game', 'goal': 0, 'trial': 0, 'scor...</td>\n      <td>[game, wcst]</td>\n    </tr>\n  </tbody>\n</table>\n</div>"
     },
     "execution_count": 93,
     "metadata": {},
     "output_type": "execute_result"
    }
   ],
   "source": [
    "dfg = [[g[\"game\"] for g in t] for t in df.games]\n",
    "# dfg = pd.DataFrame(dfg)\n",
    "df['games_l'] = [[g[\"game\"] for g in t] for t in df.games]\n",
    "df"
   ],
   "metadata": {
    "collapsed": false,
    "pycharm": {
     "name": "#%%\n"
    }
   }
  },
  {
   "cell_type": "markdown",
   "source": [
    "## Contagem dentra das listas dos jogos"
   ],
   "metadata": {
    "collapsed": false,
    "pycharm": {
     "name": "#%% md\n"
    }
   }
  },
  {
   "cell_type": "code",
   "execution_count": 94,
   "outputs": [
    {
     "data": {
      "text/plain": "                                    _id                name   ano       sexo  \\\n0  ObjectId('6477ce20f626d3cb95e08c8f')               admin  ano1  masculino   \n1  ObjectId('6477cf19f626d3cb95e08c92')               outro  ano2   feminino   \n2  ObjectId('647b8008f626d3cb95e08c98')         Pedro Lomba  ano9  masculino   \n3  ObjectId('647b85f9f626d3cb95e08c9b')              daniel  ano9  masculino   \n4  ObjectId('647b86cbf626d3cb95e08c9d')            kduzinho  ano1  masculino   \n5  ObjectId('647b8f68f626d3cb95e08c9f')  Carolina Fantinato  ano9   feminino   \n6  ObjectId('647fa41a442f27c3f236c16c')              labase  ano1  masculino   \n\n    idade                              time  \\\n0  anos10  2023-05-31 19:45:52.561244-03:00   \n1   anos9  2023-05-31 19:50:01.899904-03:00   \n2  anos10  2023-06-03 15:01:44.637563-03:00   \n3  anos10  2023-06-03 15:27:05.449207-03:00   \n4   anos1  2023-06-03 15:30:35.506478-03:00   \n5  anos10  2023-06-03 16:07:20.229405-03:00   \n6   anos1  2023-06-06 18:24:42.655420-03:00   \n\n                                               games  \\\n0  [{'game': 'wcst', 'goal': 0, 'trial': 0, 'scor...   \n1  [{'game': 'wcst', 'goal': 0, 'trial': 0, 'scor...   \n2  [{'game': 'game', 'goal': 0, 'trial': 0, 'scor...   \n3  [{'game': 'wcst', 'goal': 0, 'trial': 0, 'scor...   \n4  [{'game': 'game', 'goal': 0, 'trial': 0, 'scor...   \n5  [{'game': 'game', 'goal': 0, 'trial': 0, 'scor...   \n6  [{'game': 'game', 'goal': 0, 'trial': 0, 'scor...   \n\n                    games_l  eica  wcst  \n0              [wcst, game]     1     1  \n1  [wcst, wcst, game, game]     2     2  \n2                    [game]     1     0  \n3                    [wcst]     0     1  \n4                    [game]     1     0  \n5                    [game]     1     0  \n6              [game, wcst]     1     1  ",
      "text/html": "<div>\n<style scoped>\n    .dataframe tbody tr th:only-of-type {\n        vertical-align: middle;\n    }\n\n    .dataframe tbody tr th {\n        vertical-align: top;\n    }\n\n    .dataframe thead th {\n        text-align: right;\n    }\n</style>\n<table border=\"1\" class=\"dataframe\">\n  <thead>\n    <tr style=\"text-align: right;\">\n      <th></th>\n      <th>_id</th>\n      <th>name</th>\n      <th>ano</th>\n      <th>sexo</th>\n      <th>idade</th>\n      <th>time</th>\n      <th>games</th>\n      <th>games_l</th>\n      <th>eica</th>\n      <th>wcst</th>\n    </tr>\n  </thead>\n  <tbody>\n    <tr>\n      <th>0</th>\n      <td>ObjectId('6477ce20f626d3cb95e08c8f')</td>\n      <td>admin</td>\n      <td>ano1</td>\n      <td>masculino</td>\n      <td>anos10</td>\n      <td>2023-05-31 19:45:52.561244-03:00</td>\n      <td>[{'game': 'wcst', 'goal': 0, 'trial': 0, 'scor...</td>\n      <td>[wcst, game]</td>\n      <td>1</td>\n      <td>1</td>\n    </tr>\n    <tr>\n      <th>1</th>\n      <td>ObjectId('6477cf19f626d3cb95e08c92')</td>\n      <td>outro</td>\n      <td>ano2</td>\n      <td>feminino</td>\n      <td>anos9</td>\n      <td>2023-05-31 19:50:01.899904-03:00</td>\n      <td>[{'game': 'wcst', 'goal': 0, 'trial': 0, 'scor...</td>\n      <td>[wcst, wcst, game, game]</td>\n      <td>2</td>\n      <td>2</td>\n    </tr>\n    <tr>\n      <th>2</th>\n      <td>ObjectId('647b8008f626d3cb95e08c98')</td>\n      <td>Pedro Lomba</td>\n      <td>ano9</td>\n      <td>masculino</td>\n      <td>anos10</td>\n      <td>2023-06-03 15:01:44.637563-03:00</td>\n      <td>[{'game': 'game', 'goal': 0, 'trial': 0, 'scor...</td>\n      <td>[game]</td>\n      <td>1</td>\n      <td>0</td>\n    </tr>\n    <tr>\n      <th>3</th>\n      <td>ObjectId('647b85f9f626d3cb95e08c9b')</td>\n      <td>daniel</td>\n      <td>ano9</td>\n      <td>masculino</td>\n      <td>anos10</td>\n      <td>2023-06-03 15:27:05.449207-03:00</td>\n      <td>[{'game': 'wcst', 'goal': 0, 'trial': 0, 'scor...</td>\n      <td>[wcst]</td>\n      <td>0</td>\n      <td>1</td>\n    </tr>\n    <tr>\n      <th>4</th>\n      <td>ObjectId('647b86cbf626d3cb95e08c9d')</td>\n      <td>kduzinho</td>\n      <td>ano1</td>\n      <td>masculino</td>\n      <td>anos1</td>\n      <td>2023-06-03 15:30:35.506478-03:00</td>\n      <td>[{'game': 'game', 'goal': 0, 'trial': 0, 'scor...</td>\n      <td>[game]</td>\n      <td>1</td>\n      <td>0</td>\n    </tr>\n    <tr>\n      <th>5</th>\n      <td>ObjectId('647b8f68f626d3cb95e08c9f')</td>\n      <td>Carolina Fantinato</td>\n      <td>ano9</td>\n      <td>feminino</td>\n      <td>anos10</td>\n      <td>2023-06-03 16:07:20.229405-03:00</td>\n      <td>[{'game': 'game', 'goal': 0, 'trial': 0, 'scor...</td>\n      <td>[game]</td>\n      <td>1</td>\n      <td>0</td>\n    </tr>\n    <tr>\n      <th>6</th>\n      <td>ObjectId('647fa41a442f27c3f236c16c')</td>\n      <td>labase</td>\n      <td>ano1</td>\n      <td>masculino</td>\n      <td>anos1</td>\n      <td>2023-06-06 18:24:42.655420-03:00</td>\n      <td>[{'game': 'game', 'goal': 0, 'trial': 0, 'scor...</td>\n      <td>[game, wcst]</td>\n      <td>1</td>\n      <td>1</td>\n    </tr>\n  </tbody>\n</table>\n</div>"
     },
     "execution_count": 94,
     "metadata": {},
     "output_type": "execute_result"
    }
   ],
   "source": [
    "df['eica'] = [sum([1 for g in t  if \"game\" in g]) for t in df.games_l.tolist()]\n",
    "df['wcst'] = [sum([1 for g in t  if \"wcst\" in g]) for t in df.games_l.tolist()]\n",
    "df"
   ],
   "metadata": {
    "collapsed": false,
    "pycharm": {
     "name": "#%%\n"
    }
   }
  },
  {
   "cell_type": "markdown",
   "source": [
    "## Plotagem dos Jogos jogados por Jogador"
   ],
   "metadata": {
    "collapsed": false,
    "pycharm": {
     "name": "#%% md\n"
    }
   }
  },
  {
   "cell_type": "code",
   "execution_count": 96,
   "outputs": [
    {
     "data": {
      "text/plain": "<Figure size 1080x576 with 1 Axes>",
      "image/png": "[encoded data removed]"
     },
     "metadata": {
      "needs_background": "light"
     },
     "output_type": "display_data"
    }
   ],
   "source": [
    "import seaborn as sns\n",
    "from matplotlib import pyplot as plt\n",
    "dfx = df.explode('games_l')\n",
    "# dfm = pd.melt(df, 'games_l')\n",
    "_ = plt.figure(figsize=(15,8))\n",
    "chart = sns.countplot(data=dfx, x=\"name\", hue=\"games_l\")\n",
    "_ = chart.set(title='Contagem dos Jogos', ylabel='Número de Jogos', xlabel=\"Participantes\")\n",
    "_ = chart.set_xticklabels(chart.get_xticklabels(), rotation=45, horizontalalignment='right')\n"
   ],
   "metadata": {
    "collapsed": false,
    "pycharm": {
     "name": "#%%\n"
    }
   }
  },
  {
   "cell_type": "code",
   "execution_count": 95,
   "outputs": [],
   "source": [],
   "metadata": {
    "collapsed": false,
    "pycharm": {
     "name": "#%%\n"
    }
   }
  }
 ],
 "metadata": {
  "kernelspec": {
   "display_name": "Python 3",
   "language": "python",
   "name": "python3"
  },
  "language_info": {
   "codemirror_mode": {
    "name": "ipython",
    "version": 2
   },
   "file_extension": ".py",
   "mimetype": "text/x-python",
   "name": "python",
   "nbconvert_exporter": "python",
   "pygments_lexer": "ipython2",
   "version": "2.7.6"
  }
 },
 "nbformat": 4,
 "nbformat_minor": 0
}