{
 "cells": [
  {
   "cell_type": "markdown",
   "metadata": {
    "pycharm": {
     "name": "#%% md\n"
    }
   },
   "source": [
    "# Estatísticas do Jogos da plataforma Alite\n",
    "\n",
    "  - This file is part of  program Alite.\n",
    "  - Copyright © 2023  Carlo Oliveira <carlo@nce.ufrj.br>.\n",
    "  - [Labase](http://labase.selfip.org) - [NCE](http://portal.nce.ufrj.br) - [UFRJ](http://www.ufrj.br).\n",
    "  - SPDX-License-Identifier: ([GNU General Public License v3.0 or later](https://www.gnu.org/licenses/gpl-3.0-standalone.html)).\n",
    "\n",
    "## Version and configurations.\n",
    "\n",
    " This module retrieves data and plot statistics for the [Alite - Games](https://games.alite.selfip.org).\n",
    "\n",
    "## [23.07](https://github.com/labase/data_edu/releases)\n",
    "\n",
    "### Added\n",
    "\n",
    "- Review oposition deviation and transamb (6).\n",
    "\n",
    "## [23.06](https://github.com/labase/data_edu/releases)\n",
    "\n",
    "### Added\n",
    "\n",
    "- Preliminary stats on Alite games data.\n",
    "- Classe adicionada para plotar wisconsin (14).\n",
    "\n"
   ]
  },
  {
   "cell_type": "markdown",
   "metadata": {
    "pycharm": {
     "name": "#%% md\n"
    }
   },
   "source": [
    "## Recebe dados dos games de alite e converte para dataframe"
   ]
  },
  {
   "cell_type": "code",
   "execution_count": null,
   "metadata": {
    "pycharm": {
     "name": "#%%\n"
    }
   },
   "outputs": [],
   "source": [
    "import urllib.request, json\n",
    "import pandas as pd\n",
    "\n",
    "furl = 'https://games.alite.selfip.org/score/players'\n",
    "with urllib.request.urlopen(furl) as url:\n",
    "    data = json.loads(url.read().decode())\n",
    "    df = pd.DataFrame(data)\n",
    "\n",
    "df_players = df\n",
    "print(df)"
   ]
  },
  {
   "cell_type": "markdown",
   "metadata": {
    "pycharm": {
     "name": "#%% md\n"
    }
   },
   "source": [
    "## Converte lista de dicionários numa lista de nomes dos jogos"
   ]
  },
  {
   "cell_type": "code",
   "execution_count": null,
   "metadata": {
    "pycharm": {
     "name": "#%%\n"
    }
   },
   "outputs": [],
   "source": [
    "dfg = [[g[\"game\"] for g in t] for t in df.games]\n",
    "# dfg = pd.DataFrame(dfg)\n",
    "df['games_l'] = [[g[\"game\"] for g in t] for t in df.games]\n",
    "df"
   ]
  },
  {
   "cell_type": "markdown",
   "metadata": {
    "pycharm": {
     "name": "#%% md\n"
    }
   },
   "source": [
    "## Contagem dentra das listas dos jogos"
   ]
  },
  {
   "cell_type": "code",
   "execution_count": null,
   "metadata": {
    "pycharm": {
     "name": "#%%\n"
    }
   },
   "outputs": [],
   "source": [
    "df['eica'] = [sum([1 for g in t  if \"game\" in g]) for t in df.games_l.tolist()]\n",
    "df['wcst'] = [sum([1 for g in t  if \"wcst\" in g]) for t in df.games_l.tolist()]\n",
    "df"
   ]
  },
  {
   "cell_type": "markdown",
   "metadata": {
    "pycharm": {
     "name": "#%% md\n"
    }
   },
   "source": [
    "## Plotagem dos Jogos jogados por Jogador"
   ]
  },
  {
   "cell_type": "code",
   "execution_count": null,
   "metadata": {
    "pycharm": {
     "name": "#%%\n"
    }
   },
   "outputs": [],
   "source": [
    "import seaborn as sns\n",
    "from matplotlib import pyplot as plt\n",
    "dfx = df.explode('games_l')\n",
    "# dfm = pd.melt(df, 'games_l')\n",
    "_ = plt.figure(figsize=(15,8))\n",
    "chart = sns.countplot(data=dfx, x=\"name\", hue=\"games_l\")\n",
    "_ = chart.set(title='Contagem dos Jogos', ylabel='Número de Jogos', xlabel=\"Participantes\")\n",
    "_ = chart.set_xticklabels(chart.get_xticklabels(), rotation=45, horizontalalignment='right')\n"
   ]
  },
  {
   "cell_type": "code",
   "execution_count": null,
   "metadata": {
    "pycharm": {
     "name": "#%%\n"
    }
   },
   "outputs": [],
   "source": [
    "df"
   ]
  },
  {
   "cell_type": "markdown",
   "metadata": {
    "pycharm": {
     "name": "#%% md\n"
    }
   },
   "source": [
    "## Converte ObjectId para Identificador"
   ]
  },
  {
   "cell_type": "code",
   "execution_count": null,
   "metadata": {
    "pycharm": {
     "name": "#%%\n"
    }
   },
   "outputs": [],
   "source": [
    "import re\n",
    "matches = [re.findall(r\"'(.+?)'\",text)[0] for text in df._id.to_list()]\n",
    "df[\"oid\"] = matches\n",
    "dfo = df\n",
    "df.oid[1]"
   ]
  },
  {
   "cell_type": "markdown",
   "metadata": {
    "pycharm": {
     "name": "#%% md\n"
    }
   },
   "source": [
    "## Testa a recuperação dos dados de um jogador"
   ]
  },
  {
   "cell_type": "code",
   "execution_count": null,
   "metadata": {
    "pycharm": {
     "name": "#%%\n"
    }
   },
   "outputs": [],
   "source": [
    "import urllib.request, json\n",
    "import pandas as pd\n",
    "\n",
    "furl = 'https://games.alite.selfip.org/score/player?oid=6477cf19f626d3cb95e08c92'\n",
    "with urllib.request.urlopen(furl) as url:\n",
    "    data = json.loads(url.read().decode())\n",
    "    df = pd.DataFrame(data)\n",
    "print(df)"
   ]
  },
  {
   "cell_type": "markdown",
   "metadata": {
    "pycharm": {
     "name": "#%% md\n"
    }
   },
   "source": [
    "## Limpeza dos dados dos games"
   ]
  },
  {
   "cell_type": "code",
   "execution_count": null,
   "metadata": {
    "pycharm": {
     "name": "#%%\n"
    }
   },
   "outputs": [],
   "source": [
    "df0 = pd.DataFrame(df.games.to_list())\n",
    "df0\n",
    "# df.games"
   ]
  },
  {
   "cell_type": "markdown",
   "metadata": {
    "pycharm": {
     "name": "#%% md\n"
    }
   },
   "source": [
    "## Obtém o identificador de pontuação em formato texto"
   ]
  },
  {
   "cell_type": "code",
   "execution_count": null,
   "metadata": {
    "pycharm": {
     "name": "#%%\n"
    }
   },
   "outputs": [],
   "source": [
    "df0['score'] = [re.findall(r\"'(.+?)'\",text)[0] for text in df0.scorer.to_list()]\n",
    "df0"
   ]
  },
  {
   "cell_type": "markdown",
   "metadata": {
    "pycharm": {
     "name": "#%% md\n"
    }
   },
   "source": [
    "## Recupera os dados de jogadas de um jogador"
   ]
  },
  {
   "cell_type": "code",
   "execution_count": null,
   "metadata": {
    "pycharm": {
     "name": "#%%\n"
    }
   },
   "outputs": [],
   "source": [
    "import urllib.request, json\n",
    "import pandas as pd\n",
    "\n",
    "furl = 'https://games.alite.selfip.org/score/games?oid=6477cf19f626d3cb95e08c92'\n",
    "with urllib.request.urlopen(furl) as url:\n",
    "    data = json.loads(url.read().decode())\n",
    "    dfg = pd.DataFrame(data)\n",
    "print(dfg)"
   ]
  },
  {
   "cell_type": "markdown",
   "metadata": {
    "pycharm": {
     "name": "#%% md\n"
    }
   },
   "source": [
    "## Expande a lista interna de games e transforma em colunas"
   ]
  },
  {
   "cell_type": "code",
   "execution_count": null,
   "metadata": {
    "pycharm": {
     "name": "#%%\n"
    }
   },
   "outputs": [],
   "source": [
    "dfx = dfg.explode('scorer')\n",
    "dfxx = dfx.drop(columns=[\"scorer\"], inplace=False).join(\n",
    "    dfx.apply(lambda x: pd.Series(x[\"scorer\"].values(), index=x[\"scorer\"].keys()), axis=1))\n",
    "dfxx"
   ]
  },
  {
   "cell_type": "code",
   "execution_count": null,
   "metadata": {
    "pycharm": {
     "name": "#%%\n"
    }
   },
   "outputs": [],
   "source": [
    "dfxl = pd.DataFrame(dfx.scorer.values.tolist())\n",
    "dfx = dfx.drop(columns=[\"scorer\"], inplace=False).reset_index()\n",
    "dfxj = dfx.join(dfxl)\n",
    "dfxj"
   ]
  },
  {
   "cell_type": "markdown",
   "metadata": {
    "pycharm": {
     "name": "#%% md\n"
    }
   },
   "source": [
    "# Recuperação e plotagem das jogadas"
   ]
  },
  {
   "cell_type": "markdown",
   "metadata": {
    "pycharm": {
     "name": "#%% md\n"
    }
   },
   "source": [
    "## Pedido dos dados ao servidor e converte num arcabouço de dados"
   ]
  },
  {
   "cell_type": "code",
   "execution_count": null,
   "metadata": {
    "pycharm": {
     "name": "#%%\n"
    }
   },
   "outputs": [
    {
     "ename": "KeyboardInterrupt",
     "evalue": "",
     "output_type": "error",
     "traceback": [
      "\u001B[0;31m---------------------------------------------------------------------------\u001B[0m",
      "\u001B[0;31mKeyboardInterrupt\u001B[0m                         Traceback (most recent call last)",
      "Input \u001B[0;32mIn [190]\u001B[0m, in \u001B[0;36m<cell line: 20>\u001B[0;34m()\u001B[0m\n\u001B[1;32m     18\u001B[0m     \u001B[38;5;28;01mreturn\u001B[39;00m dfx_\u001B[38;5;241m.\u001B[39mjoin(dfxl_)\n\u001B[1;32m     19\u001B[0m \u001B[38;5;66;03m# retrieve_games('6477cf19f626d3cb95e08c92')\u001B[39;00m\n\u001B[0;32m---> 20\u001B[0m games \u001B[38;5;241m=\u001B[39m [retrieve_games(oid) \u001B[38;5;28;01mfor\u001B[39;00m oid \u001B[38;5;129;01min\u001B[39;00m dfo\u001B[38;5;241m.\u001B[39moid\u001B[38;5;241m.\u001B[39mto_list()]\n",
      "Input \u001B[0;32mIn [190]\u001B[0m, in \u001B[0;36m<listcomp>\u001B[0;34m(.0)\u001B[0m\n\u001B[1;32m     18\u001B[0m     \u001B[38;5;28;01mreturn\u001B[39;00m dfx_\u001B[38;5;241m.\u001B[39mjoin(dfxl_)\n\u001B[1;32m     19\u001B[0m \u001B[38;5;66;03m# retrieve_games('6477cf19f626d3cb95e08c92')\u001B[39;00m\n\u001B[0;32m---> 20\u001B[0m games \u001B[38;5;241m=\u001B[39m [\u001B[43mretrieve_games\u001B[49m\u001B[43m(\u001B[49m\u001B[43moid\u001B[49m\u001B[43m)\u001B[49m \u001B[38;5;28;01mfor\u001B[39;00m oid \u001B[38;5;129;01min\u001B[39;00m dfo\u001B[38;5;241m.\u001B[39moid\u001B[38;5;241m.\u001B[39mto_list()]\n",
      "Input \u001B[0;32mIn [190]\u001B[0m, in \u001B[0;36mretrieve_games\u001B[0;34m(player)\u001B[0m\n\u001B[1;32m      7\u001B[0m \u001B[38;5;28;01mdef\u001B[39;00m \u001B[38;5;21mretrieve_games\u001B[39m(player):\n\u001B[1;32m      8\u001B[0m     \u001B[38;5;28;01mglobal\u001B[39;00m dfl\n\u001B[0;32m----> 9\u001B[0m     \u001B[38;5;28;01mwith\u001B[39;00m \u001B[43murllib\u001B[49m\u001B[38;5;241;43m.\u001B[39;49m\u001B[43mrequest\u001B[49m\u001B[38;5;241;43m.\u001B[39;49m\u001B[43murlopen\u001B[49m\u001B[43m(\u001B[49m\u001B[43mfurl\u001B[49m\u001B[38;5;241;43m.\u001B[39;49m\u001B[43mformat\u001B[49m\u001B[43m(\u001B[49m\u001B[43mplayer\u001B[49m\u001B[43m)\u001B[49m\u001B[43m)\u001B[49m \u001B[38;5;28;01mas\u001B[39;00m urlp:\n\u001B[1;32m     10\u001B[0m         dfl\u001B[38;5;241m.\u001B[39mextend(json\u001B[38;5;241m.\u001B[39mloads(urlp\u001B[38;5;241m.\u001B[39mread()\u001B[38;5;241m.\u001B[39mdecode()))\n",
      "File \u001B[0;32m/usr/lib/python3.10/urllib/request.py:216\u001B[0m, in \u001B[0;36murlopen\u001B[0;34m(url, data, timeout, cafile, capath, cadefault, context)\u001B[0m\n\u001B[1;32m    214\u001B[0m \u001B[38;5;28;01melse\u001B[39;00m:\n\u001B[1;32m    215\u001B[0m     opener \u001B[38;5;241m=\u001B[39m _opener\n\u001B[0;32m--> 216\u001B[0m \u001B[38;5;28;01mreturn\u001B[39;00m \u001B[43mopener\u001B[49m\u001B[38;5;241;43m.\u001B[39;49m\u001B[43mopen\u001B[49m\u001B[43m(\u001B[49m\u001B[43murl\u001B[49m\u001B[43m,\u001B[49m\u001B[43m \u001B[49m\u001B[43mdata\u001B[49m\u001B[43m,\u001B[49m\u001B[43m \u001B[49m\u001B[43mtimeout\u001B[49m\u001B[43m)\u001B[49m\n",
      "File \u001B[0;32m/usr/lib/python3.10/urllib/request.py:519\u001B[0m, in \u001B[0;36mOpenerDirector.open\u001B[0;34m(self, fullurl, data, timeout)\u001B[0m\n\u001B[1;32m    516\u001B[0m     req \u001B[38;5;241m=\u001B[39m meth(req)\n\u001B[1;32m    518\u001B[0m sys\u001B[38;5;241m.\u001B[39maudit(\u001B[38;5;124m'\u001B[39m\u001B[38;5;124murllib.Request\u001B[39m\u001B[38;5;124m'\u001B[39m, req\u001B[38;5;241m.\u001B[39mfull_url, req\u001B[38;5;241m.\u001B[39mdata, req\u001B[38;5;241m.\u001B[39mheaders, req\u001B[38;5;241m.\u001B[39mget_method())\n\u001B[0;32m--> 519\u001B[0m response \u001B[38;5;241m=\u001B[39m \u001B[38;5;28;43mself\u001B[39;49m\u001B[38;5;241;43m.\u001B[39;49m\u001B[43m_open\u001B[49m\u001B[43m(\u001B[49m\u001B[43mreq\u001B[49m\u001B[43m,\u001B[49m\u001B[43m \u001B[49m\u001B[43mdata\u001B[49m\u001B[43m)\u001B[49m\n\u001B[1;32m    521\u001B[0m \u001B[38;5;66;03m# post-process response\u001B[39;00m\n\u001B[1;32m    522\u001B[0m meth_name \u001B[38;5;241m=\u001B[39m protocol\u001B[38;5;241m+\u001B[39m\u001B[38;5;124m\"\u001B[39m\u001B[38;5;124m_response\u001B[39m\u001B[38;5;124m\"\u001B[39m\n",
      "File \u001B[0;32m/usr/lib/python3.10/urllib/request.py:536\u001B[0m, in \u001B[0;36mOpenerDirector._open\u001B[0;34m(self, req, data)\u001B[0m\n\u001B[1;32m    533\u001B[0m     \u001B[38;5;28;01mreturn\u001B[39;00m result\n\u001B[1;32m    535\u001B[0m protocol \u001B[38;5;241m=\u001B[39m req\u001B[38;5;241m.\u001B[39mtype\n\u001B[0;32m--> 536\u001B[0m result \u001B[38;5;241m=\u001B[39m \u001B[38;5;28;43mself\u001B[39;49m\u001B[38;5;241;43m.\u001B[39;49m\u001B[43m_call_chain\u001B[49m\u001B[43m(\u001B[49m\u001B[38;5;28;43mself\u001B[39;49m\u001B[38;5;241;43m.\u001B[39;49m\u001B[43mhandle_open\u001B[49m\u001B[43m,\u001B[49m\u001B[43m \u001B[49m\u001B[43mprotocol\u001B[49m\u001B[43m,\u001B[49m\u001B[43m \u001B[49m\u001B[43mprotocol\u001B[49m\u001B[43m \u001B[49m\u001B[38;5;241;43m+\u001B[39;49m\n\u001B[1;32m    537\u001B[0m \u001B[43m                          \u001B[49m\u001B[38;5;124;43m'\u001B[39;49m\u001B[38;5;124;43m_open\u001B[39;49m\u001B[38;5;124;43m'\u001B[39;49m\u001B[43m,\u001B[49m\u001B[43m \u001B[49m\u001B[43mreq\u001B[49m\u001B[43m)\u001B[49m\n\u001B[1;32m    538\u001B[0m \u001B[38;5;28;01mif\u001B[39;00m result:\n\u001B[1;32m    539\u001B[0m     \u001B[38;5;28;01mreturn\u001B[39;00m result\n",
      "File \u001B[0;32m/usr/lib/python3.10/urllib/request.py:496\u001B[0m, in \u001B[0;36mOpenerDirector._call_chain\u001B[0;34m(self, chain, kind, meth_name, *args)\u001B[0m\n\u001B[1;32m    494\u001B[0m \u001B[38;5;28;01mfor\u001B[39;00m handler \u001B[38;5;129;01min\u001B[39;00m handlers:\n\u001B[1;32m    495\u001B[0m     func \u001B[38;5;241m=\u001B[39m \u001B[38;5;28mgetattr\u001B[39m(handler, meth_name)\n\u001B[0;32m--> 496\u001B[0m     result \u001B[38;5;241m=\u001B[39m \u001B[43mfunc\u001B[49m\u001B[43m(\u001B[49m\u001B[38;5;241;43m*\u001B[39;49m\u001B[43margs\u001B[49m\u001B[43m)\u001B[49m\n\u001B[1;32m    497\u001B[0m     \u001B[38;5;28;01mif\u001B[39;00m result \u001B[38;5;129;01mis\u001B[39;00m \u001B[38;5;129;01mnot\u001B[39;00m \u001B[38;5;28;01mNone\u001B[39;00m:\n\u001B[1;32m    498\u001B[0m         \u001B[38;5;28;01mreturn\u001B[39;00m result\n",
      "File \u001B[0;32m/usr/lib/python3.10/urllib/request.py:1391\u001B[0m, in \u001B[0;36mHTTPSHandler.https_open\u001B[0;34m(self, req)\u001B[0m\n\u001B[1;32m   1390\u001B[0m \u001B[38;5;28;01mdef\u001B[39;00m \u001B[38;5;21mhttps_open\u001B[39m(\u001B[38;5;28mself\u001B[39m, req):\n\u001B[0;32m-> 1391\u001B[0m     \u001B[38;5;28;01mreturn\u001B[39;00m \u001B[38;5;28;43mself\u001B[39;49m\u001B[38;5;241;43m.\u001B[39;49m\u001B[43mdo_open\u001B[49m\u001B[43m(\u001B[49m\u001B[43mhttp\u001B[49m\u001B[38;5;241;43m.\u001B[39;49m\u001B[43mclient\u001B[49m\u001B[38;5;241;43m.\u001B[39;49m\u001B[43mHTTPSConnection\u001B[49m\u001B[43m,\u001B[49m\u001B[43m \u001B[49m\u001B[43mreq\u001B[49m\u001B[43m,\u001B[49m\n\u001B[1;32m   1392\u001B[0m \u001B[43m        \u001B[49m\u001B[43mcontext\u001B[49m\u001B[38;5;241;43m=\u001B[39;49m\u001B[38;5;28;43mself\u001B[39;49m\u001B[38;5;241;43m.\u001B[39;49m\u001B[43m_context\u001B[49m\u001B[43m,\u001B[49m\u001B[43m \u001B[49m\u001B[43mcheck_hostname\u001B[49m\u001B[38;5;241;43m=\u001B[39;49m\u001B[38;5;28;43mself\u001B[39;49m\u001B[38;5;241;43m.\u001B[39;49m\u001B[43m_check_hostname\u001B[49m\u001B[43m)\u001B[49m\n",
      "File \u001B[0;32m/usr/lib/python3.10/urllib/request.py:1352\u001B[0m, in \u001B[0;36mAbstractHTTPHandler.do_open\u001B[0;34m(self, http_class, req, **http_conn_args)\u001B[0m\n\u001B[1;32m   1350\u001B[0m     \u001B[38;5;28;01mexcept\u001B[39;00m \u001B[38;5;167;01mOSError\u001B[39;00m \u001B[38;5;28;01mas\u001B[39;00m err: \u001B[38;5;66;03m# timeout error\u001B[39;00m\n\u001B[1;32m   1351\u001B[0m         \u001B[38;5;28;01mraise\u001B[39;00m URLError(err)\n\u001B[0;32m-> 1352\u001B[0m     r \u001B[38;5;241m=\u001B[39m \u001B[43mh\u001B[49m\u001B[38;5;241;43m.\u001B[39;49m\u001B[43mgetresponse\u001B[49m\u001B[43m(\u001B[49m\u001B[43m)\u001B[49m\n\u001B[1;32m   1353\u001B[0m \u001B[38;5;28;01mexcept\u001B[39;00m:\n\u001B[1;32m   1354\u001B[0m     h\u001B[38;5;241m.\u001B[39mclose()\n",
      "File \u001B[0;32m/usr/lib/python3.10/http/client.py:1374\u001B[0m, in \u001B[0;36mHTTPConnection.getresponse\u001B[0;34m(self)\u001B[0m\n\u001B[1;32m   1372\u001B[0m \u001B[38;5;28;01mtry\u001B[39;00m:\n\u001B[1;32m   1373\u001B[0m     \u001B[38;5;28;01mtry\u001B[39;00m:\n\u001B[0;32m-> 1374\u001B[0m         \u001B[43mresponse\u001B[49m\u001B[38;5;241;43m.\u001B[39;49m\u001B[43mbegin\u001B[49m\u001B[43m(\u001B[49m\u001B[43m)\u001B[49m\n\u001B[1;32m   1375\u001B[0m     \u001B[38;5;28;01mexcept\u001B[39;00m \u001B[38;5;167;01mConnectionError\u001B[39;00m:\n\u001B[1;32m   1376\u001B[0m         \u001B[38;5;28mself\u001B[39m\u001B[38;5;241m.\u001B[39mclose()\n",
      "File \u001B[0;32m/usr/lib/python3.10/http/client.py:318\u001B[0m, in \u001B[0;36mHTTPResponse.begin\u001B[0;34m(self)\u001B[0m\n\u001B[1;32m    316\u001B[0m \u001B[38;5;66;03m# read until we get a non-100 response\u001B[39;00m\n\u001B[1;32m    317\u001B[0m \u001B[38;5;28;01mwhile\u001B[39;00m \u001B[38;5;28;01mTrue\u001B[39;00m:\n\u001B[0;32m--> 318\u001B[0m     version, status, reason \u001B[38;5;241m=\u001B[39m \u001B[38;5;28;43mself\u001B[39;49m\u001B[38;5;241;43m.\u001B[39;49m\u001B[43m_read_status\u001B[49m\u001B[43m(\u001B[49m\u001B[43m)\u001B[49m\n\u001B[1;32m    319\u001B[0m     \u001B[38;5;28;01mif\u001B[39;00m status \u001B[38;5;241m!=\u001B[39m CONTINUE:\n\u001B[1;32m    320\u001B[0m         \u001B[38;5;28;01mbreak\u001B[39;00m\n",
      "File \u001B[0;32m/usr/lib/python3.10/http/client.py:279\u001B[0m, in \u001B[0;36mHTTPResponse._read_status\u001B[0;34m(self)\u001B[0m\n\u001B[1;32m    278\u001B[0m \u001B[38;5;28;01mdef\u001B[39;00m \u001B[38;5;21m_read_status\u001B[39m(\u001B[38;5;28mself\u001B[39m):\n\u001B[0;32m--> 279\u001B[0m     line \u001B[38;5;241m=\u001B[39m \u001B[38;5;28mstr\u001B[39m(\u001B[38;5;28;43mself\u001B[39;49m\u001B[38;5;241;43m.\u001B[39;49m\u001B[43mfp\u001B[49m\u001B[38;5;241;43m.\u001B[39;49m\u001B[43mreadline\u001B[49m\u001B[43m(\u001B[49m\u001B[43m_MAXLINE\u001B[49m\u001B[43m \u001B[49m\u001B[38;5;241;43m+\u001B[39;49m\u001B[43m \u001B[49m\u001B[38;5;241;43m1\u001B[39;49m\u001B[43m)\u001B[49m, \u001B[38;5;124m\"\u001B[39m\u001B[38;5;124miso-8859-1\u001B[39m\u001B[38;5;124m\"\u001B[39m)\n\u001B[1;32m    280\u001B[0m     \u001B[38;5;28;01mif\u001B[39;00m \u001B[38;5;28mlen\u001B[39m(line) \u001B[38;5;241m>\u001B[39m _MAXLINE:\n\u001B[1;32m    281\u001B[0m         \u001B[38;5;28;01mraise\u001B[39;00m LineTooLong(\u001B[38;5;124m\"\u001B[39m\u001B[38;5;124mstatus line\u001B[39m\u001B[38;5;124m\"\u001B[39m)\n",
      "File \u001B[0;32m/usr/lib/python3.10/socket.py:705\u001B[0m, in \u001B[0;36mSocketIO.readinto\u001B[0;34m(self, b)\u001B[0m\n\u001B[1;32m    703\u001B[0m \u001B[38;5;28;01mwhile\u001B[39;00m \u001B[38;5;28;01mTrue\u001B[39;00m:\n\u001B[1;32m    704\u001B[0m     \u001B[38;5;28;01mtry\u001B[39;00m:\n\u001B[0;32m--> 705\u001B[0m         \u001B[38;5;28;01mreturn\u001B[39;00m \u001B[38;5;28;43mself\u001B[39;49m\u001B[38;5;241;43m.\u001B[39;49m\u001B[43m_sock\u001B[49m\u001B[38;5;241;43m.\u001B[39;49m\u001B[43mrecv_into\u001B[49m\u001B[43m(\u001B[49m\u001B[43mb\u001B[49m\u001B[43m)\u001B[49m\n\u001B[1;32m    706\u001B[0m     \u001B[38;5;28;01mexcept\u001B[39;00m timeout:\n\u001B[1;32m    707\u001B[0m         \u001B[38;5;28mself\u001B[39m\u001B[38;5;241m.\u001B[39m_timeout_occurred \u001B[38;5;241m=\u001B[39m \u001B[38;5;28;01mTrue\u001B[39;00m\n",
      "File \u001B[0;32m/usr/lib/python3.10/ssl.py:1274\u001B[0m, in \u001B[0;36mSSLSocket.recv_into\u001B[0;34m(self, buffer, nbytes, flags)\u001B[0m\n\u001B[1;32m   1270\u001B[0m     \u001B[38;5;28;01mif\u001B[39;00m flags \u001B[38;5;241m!=\u001B[39m \u001B[38;5;241m0\u001B[39m:\n\u001B[1;32m   1271\u001B[0m         \u001B[38;5;28;01mraise\u001B[39;00m \u001B[38;5;167;01mValueError\u001B[39;00m(\n\u001B[1;32m   1272\u001B[0m           \u001B[38;5;124m\"\u001B[39m\u001B[38;5;124mnon-zero flags not allowed in calls to recv_into() on \u001B[39m\u001B[38;5;132;01m%s\u001B[39;00m\u001B[38;5;124m\"\u001B[39m \u001B[38;5;241m%\u001B[39m\n\u001B[1;32m   1273\u001B[0m           \u001B[38;5;28mself\u001B[39m\u001B[38;5;241m.\u001B[39m\u001B[38;5;18m__class__\u001B[39m)\n\u001B[0;32m-> 1274\u001B[0m     \u001B[38;5;28;01mreturn\u001B[39;00m \u001B[38;5;28;43mself\u001B[39;49m\u001B[38;5;241;43m.\u001B[39;49m\u001B[43mread\u001B[49m\u001B[43m(\u001B[49m\u001B[43mnbytes\u001B[49m\u001B[43m,\u001B[49m\u001B[43m \u001B[49m\u001B[43mbuffer\u001B[49m\u001B[43m)\u001B[49m\n\u001B[1;32m   1275\u001B[0m \u001B[38;5;28;01melse\u001B[39;00m:\n\u001B[1;32m   1276\u001B[0m     \u001B[38;5;28;01mreturn\u001B[39;00m \u001B[38;5;28msuper\u001B[39m()\u001B[38;5;241m.\u001B[39mrecv_into(buffer, nbytes, flags)\n",
      "File \u001B[0;32m/usr/lib/python3.10/ssl.py:1130\u001B[0m, in \u001B[0;36mSSLSocket.read\u001B[0;34m(self, len, buffer)\u001B[0m\n\u001B[1;32m   1128\u001B[0m \u001B[38;5;28;01mtry\u001B[39;00m:\n\u001B[1;32m   1129\u001B[0m     \u001B[38;5;28;01mif\u001B[39;00m buffer \u001B[38;5;129;01mis\u001B[39;00m \u001B[38;5;129;01mnot\u001B[39;00m \u001B[38;5;28;01mNone\u001B[39;00m:\n\u001B[0;32m-> 1130\u001B[0m         \u001B[38;5;28;01mreturn\u001B[39;00m \u001B[38;5;28;43mself\u001B[39;49m\u001B[38;5;241;43m.\u001B[39;49m\u001B[43m_sslobj\u001B[49m\u001B[38;5;241;43m.\u001B[39;49m\u001B[43mread\u001B[49m\u001B[43m(\u001B[49m\u001B[38;5;28;43mlen\u001B[39;49m\u001B[43m,\u001B[49m\u001B[43m \u001B[49m\u001B[43mbuffer\u001B[49m\u001B[43m)\u001B[49m\n\u001B[1;32m   1131\u001B[0m     \u001B[38;5;28;01melse\u001B[39;00m:\n\u001B[1;32m   1132\u001B[0m         \u001B[38;5;28;01mreturn\u001B[39;00m \u001B[38;5;28mself\u001B[39m\u001B[38;5;241m.\u001B[39m_sslobj\u001B[38;5;241m.\u001B[39mread(\u001B[38;5;28mlen\u001B[39m)\n",
      "\u001B[0;31mKeyboardInterrupt\u001B[0m: "
     ]
    }
   ],
   "source": [
    "import urllib.request, json\n",
    "import pandas as pd\n",
    "furl = 'https://games.alite.selfip.org/score/games?oid={}'\n",
    "dfa = pd.DataFrame()\n",
    "dfl = []\n",
    "\n",
    "def retrieve_games(player):\n",
    "    global dfl\n",
    "    with urllib.request.urlopen(furl.format(player)) as urlp:\n",
    "        dfl.extend(json.loads(urlp.read().decode()))\n",
    "def process_df():\n",
    "    dfg_ = pd.DataFrame(dfl)\n",
    "\n",
    "    dfx_ = dfg_.explode('scorer')\n",
    "    dfxl_ = [d for d in dfx_.scorer.values.tolist() if isinstance(d, dict)]\n",
    "    dfxl_ = pd.DataFrame(dfxl_)\n",
    "    dfx_ = dfx_.drop(columns=[\"scorer\"], inplace=False).reset_index()\n",
    "    return dfx_.join(dfxl_)\n",
    "# retrieve_games('6477cf19f626d3cb95e08c92')\n",
    "games = [retrieve_games(oid) for oid in dfo.oid.to_list()]\n",
    "# print(dfl)\n",
    "# dfg = pd.DataFrame(dfl)\n",
    "# dfx = dfg.explode('scorer')\n",
    "# dfl = dfx.scorer.values.tolist()\n",
    "# isinstance(dfl[1712], dict)\n",
    "# dfl = [d for d in dfl if isinstance(d, dict)]\n",
    "# pd.DataFrame(dfl)\n",
    "# dfa = process_df()\n",
    "# dfa"
   ]
  },
  {
   "cell_type": "markdown",
   "metadata": {
    "pycharm": {
     "name": "#%% md\n"
    }
   },
   "source": [
    "## Gera o arcabouço de dados das jogadas"
   ]
  },
  {
   "cell_type": "code",
   "execution_count": null,
   "metadata": {
    "pycharm": {
     "name": "#%%\n"
    }
   },
   "outputs": [],
   "source": [
    "dfa = process_df()\n",
    "\n",
    "dfa"
   ]
  },
  {
   "cell_type": "markdown",
   "metadata": {
    "pycharm": {
     "name": "#%% md\n"
    }
   },
   "source": [
    "## Separa os dados do Wisconsin"
   ]
  },
  {
   "cell_type": "code",
   "execution_count": null,
   "metadata": {
    "pycharm": {
     "name": "#%%\n"
    }
   },
   "outputs": [],
   "source": [
    "dfwc = dfa.loc[dfa['game'] == 'wcst']\n",
    "dfwc"
   ]
  },
  {
   "cell_type": "markdown",
   "metadata": {
    "pycharm": {
     "name": "#%% md\n"
    }
   },
   "source": [
    "## Gráfico de contagem de pontos no Wisc"
   ]
  },
  {
   "cell_type": "markdown",
   "source": [
    "### Classe para concentrar as operações de arcabouço"
   ],
   "metadata": {
    "collapsed": false,
    "pycharm": {
     "name": "#%% md\n"
    }
   }
  },
  {
   "cell_type": "code",
   "execution_count": null,
   "outputs": [],
   "source": [
    "from pandas import DataFrame\n",
    "from collections import namedtuple\n",
    "from dataclasses import dataclass\n",
    "\n",
    "@dataclass\n",
    "class Plot:\n",
    "    kind = \"value plot factor violin hist heat\".split()\n",
    "    icon = [(6, 5), (6, 5), (3, 2), (6, 0), (2, 2), (5, 4)]\n",
    "    value = dict(col='valor', title='Contagem dos Valores Wisc', ylabel='Contagem de Valores',\n",
    "                 xlabel=\"Participantes\", sub_title=\"Counting Plot de valores do teste Wisconsin\")\n",
    "    plot = dict(col='ponto', title='Contagem dos Pontos Wisc', ylabel='Contagem de Pontos',\n",
    "                xlabel=\"Participantes\", sub_title=\"Counting Plot de pontos do teste Wisconsin\")\n",
    "    factor = dict(col='ponto', title='Factor Plot das medidas do Wisc', ylabel='frequência das incidência',\n",
    "                  xlabel=\"incidência das medidas\", sub_title=\"Factor Plot do teste Wisconsin\")\n",
    "    violin = dict(col='ponto', title='Violin Plot das medidas do Wisc', ylabel='frequência das incidência',\n",
    "                  xlabel=\"incidência das medidas\", sub_title=\"Violin Plot do teste Wisconsin\")\n",
    "    hist = dict(col='ponto', title='Histograma das medidas do Wisc', ylabel='frequência das incidência',\n",
    "                xlabel=\"incidência das medidas\", sub_title=\"Histogram Plot do teste Wisconsin\")\n",
    "    heat = dict(col='ponto', title='Correlação das medidas do Wisc', ylabel='listagem das incidência',\n",
    "                xlabel=\"listagem das medidas\", sub_title=\"Heatmap Plot dos fatores no teste Wisconsin\")\n",
    "    plotting = dict(value=value, plot=plot, factor=factor, violin=violin, hist=hist, heat=heat)\n",
    "\n",
    "import numpy as np\n",
    "class WiscPlot:\n",
    "    Cfplot = namedtuple(\"Cfplot\", \"col title ylabel xlabel\")\n",
    "    Pnt = namedtuple(\"Pnt\", \"ok no td\")\n",
    "    Val = namedtuple(\"Val\", \"cc cf cn ct\")\n",
    "    def __init__(self, game_url='https://games.alite.selfip.org/score/games?oid={}'):\n",
    "        self.game_url = game_url\n",
    "        self.df: DataFrame = DataFrame()\n",
    "        self.game_data = []\n",
    "        self.count = 0\n",
    "\n",
    "    def retrieve_games(self, player):\n",
    "        \"\"\" Retrieve from remote source data for a given player\n",
    "\n",
    "        :param player: Given player id; identification\n",
    "        :return: None\n",
    "        \"\"\"\n",
    "        with urllib.request.urlopen(self.game_url.format(player)) as urlp:\n",
    "            self.game_data.extend(json.loads(urlp.read().decode()))\n",
    "\n",
    "    def process_df(self):\n",
    "        \"\"\" Shapes current dataframe to filter wisc and replace the column scorer\n",
    "\n",
    "        :return:\n",
    "        \"\"\"\n",
    "        dfg_ = DataFrame(self.game_data)\n",
    "        dfg_ = dfg_.loc[dfg_['game'] == 'wcst']\n",
    "        dfg_[\"name\"] = dfg_.name.apply(lambda x: f\"{n[0]} {n[1][:2]}.\" if len(n := x.split()) > 1 else x)\n",
    "\n",
    "        dfx_ = dfg_.explode('scorer')\n",
    "        dfl_ = DataFrame(dfx_.scorer.values.tolist())\n",
    "        dfx_ = dfx_.drop(columns=[\"scorer\"], inplace=False).reset_index()\n",
    "        return dfx_.join(dfl_)\n",
    "\n",
    "    def get_all_games(self, player_oids):\n",
    "        \"\"\" Get all games from a given player.\n",
    "\n",
    "        :param player_oids: Given player id\n",
    "        :return: None (assign to current df attribute)\n",
    "        \"\"\"\n",
    "        _ = [self.retrieve_games(oid) for oid in player_oids]\n",
    "        # print(self.game_data)\n",
    "        self.df = self.process_df()\n",
    "\n",
    "    def retrieve_oid_from_person_df(self, person_df):\n",
    "        \"\"\" Trim id vale from extra surroundings.\n",
    "\n",
    "        :param person_df: Given player dataframe\n",
    "        :return: self (this object)\n",
    "        \"\"\"\n",
    "        import re\n",
    "        # noinspection PyProtectedMember\n",
    "        oid_list = [re.findall(r\"'(.+?)'\", text)[0] for text in person_df._id.to_list()]\n",
    "        self.get_all_games(oid_list)\n",
    "        return self\n",
    "\n",
    "    def refine_point_value_info(self):\n",
    "        \"\"\" Extract some cognitive relevant properties from existing data,\n",
    "\n",
    "        :return: transformed dataframe with new columns\n",
    "        \"\"\"\n",
    "\n",
    "        def counter(a, b):\n",
    "            \"\"\" Counts repetition of a figure.\n",
    "\n",
    "            :param a: current figure of the series\n",
    "            :param b: next figure of the series\n",
    "            :return: count if prevails or zero if not\n",
    "            \"\"\"\n",
    "            a, b = int(a), int(b)\n",
    "            self.count += (1 if a else 0)\n",
    "            count, self.count = self.count if not b else 0, 0 if not b else self.count\n",
    "            return count\n",
    "        def alter(a, b):\n",
    "            a, b = int(a), int(b)\n",
    "            no_alter = (a == b) or (b==0) or (a==0)\n",
    "            self.count += (1 if a!=b else 0)\n",
    "            count, self.count = self.count if no_alter else 0, 0 if no_alter else self.count\n",
    "            return count\n",
    "\n",
    "        def joiner(k, t, w):\n",
    "            k, t = int(k), int(t)\n",
    "            return int(int(t != w) * 2 ** w * k)\n",
    "\n",
    "        def nobother(cc, cf, cn, ct):\n",
    "            non =  [int(cc), int(cf), int(cn)]\n",
    "            do = non.pop(int(ct)%3) < 1\n",
    "            return int(all(non)) if do else 0\n",
    "\n",
    "        def noner(cc, cf, cn, ct):\n",
    "            non =  [int(cc), int(cf), int(cn)]\n",
    "            do = non.pop(int(ct)%3) < 1\n",
    "            return (non[0] + 2* non[1]) if do else 0\n",
    "            # return int(any(non)) if do else 0\n",
    "            # return 1 if do else 0\n",
    "\n",
    "        def bother(c, f, n, t, e=True):\n",
    "            c, f, n, t = int(c), int(f), int(n), int(t) % 3\n",
    "            all_k = [c, f, n]\n",
    "            if t > 2 or t < 0:\n",
    "                raise ValueError(t)\n",
    "            target = all_k.pop(t)\n",
    "            return target * sum(all_k) if e else int(all(all_k))\n",
    "\n",
    "        point_list = [self.Pnt(text[:-2], *list(text[-2:])) for text in self.df.ponto.to_list()]\n",
    "        new_list = point_list[1:] + [self.Pnt(0, 0, 0)]\n",
    "        val_list0 = [self.Val(*list(text)) for text in self.df.valor.to_list()]\n",
    "        non_list = [noner(*list(val)) for val in self.df.valor.to_list()]\n",
    "        nob_list = [nobother(*list(val)) for val in self.df.valor.to_list()]\n",
    "        val_list = [joiner(val.cc, val.ct, 0) + joiner(val.cf, val.ct, 1) + joiner(val.cn, val.ct, 2)\n",
    "                    for val in\n",
    "                    val_list0]\n",
    "        conservation = [counter(a.ok, b.ok) for a, b in zip(point_list, new_list)]\n",
    "        perseveration = [counter(a.no, b.no) for a, b in zip(point_list, new_list)]\n",
    "        deviation = [alter(a, b) for a, b in zip(non_list, non_list[1:] + [0])]\n",
    "        oposition = [counter(a, b) for a, b in zip(nob_list, nob_list[1:] + [0])]\n",
    "        ambiguation = [bother(c, f, n, t) for c, f, n, t in val_list0]\n",
    "        transamb = [bother(c, f, n, t, False) for c, f, n, t in val_list0]\n",
    "        zipped = list(zip(conservation, perseveration, oposition, deviation, ambiguation, transamb))\n",
    "        df__ = DataFrame(zipped, columns='conservation perseveration oposition deviation ambiguation transamb'.split())\n",
    "        _df = self.df.drop(columns='game goal trial carta casa move time ponto valor'.split(),\n",
    "                           inplace=False).reset_index()\n",
    "        _df = _df.join(df__).drop(columns='level_0 index _id'.split(), inplace=False)\n",
    "        # self.df = _df\n",
    "        return _df\n",
    "\n",
    "    def plot_template(self, cfg: Cfplot, runner, x_lim=None, y_lim=None, tick=False, tl= False, df=None):\n",
    "        \"\"\" Template method to embrace a given method.\n",
    "\n",
    "        :param tick: Add slant labels to x-axis.\n",
    "        :param cfg: Plotting configuration\n",
    "        :param runner: Given method to be templated.\n",
    "        :param df: Dataframe source for plotting.\n",
    "        :param x_lim: Limits for x-axis.\n",
    "        :param y_lim: Limits for y-axis.\n",
    "        :return: Plotting context.\n",
    "        \"\"\"\n",
    "        from matplotlib import pyplot as plt_\n",
    "        f = plt_.figure(figsize=(20, 8))\n",
    "        ax = f.add_subplot(1, 1, 1)\n",
    "\n",
    "        if df is None:\n",
    "            df_ = self.refine_point_value_info()\n",
    "            df_ = pd.melt(df_, id_vars=\"name\", var_name=\"measure\", value_name=\"incidence\")\n",
    "        else:\n",
    "            df_ = df\n",
    "        chart_ = runner(df_, ax)\n",
    "        _ = chart_.set(title=cfg.title, ylabel=cfg.ylabel, xlabel=cfg.xlabel)\n",
    "        # _ = chart_.set_xticklabels(chart_.get_xticklabels(), rotation=45, horizontalalignment='right')\n",
    "        chart_.set_xticklabels(chart_.get_xticklabels(), rotation=45, horizontalalignment='right') if tl else None\n",
    "        _ = chart_.set_xticklabels(rotation=45, horizontalalignment='right') if tick else None\n",
    "        chart_.set(xlim=x_lim) if x_lim else None\n",
    "        chart_.set(ylim=y_lim) if y_lim else None\n",
    "        # chart_.set_xlim(left=x_lim[0], right=x_lim[1]) if x_lim else None\n",
    "        return plt_\n",
    "\n",
    "    def plot(self, cfg: Cfplot):\n",
    "        \"\"\" Counting bar plot\n",
    "\n",
    "        :param cfg: Plotting configuration\n",
    "        :return: Plotting context.\n",
    "        \"\"\"\n",
    "        import seaborn as sbn\n",
    "        return self.plot_template(cfg, lambda df_, a: sbn.countplot(data=df_, x=\"name\", hue=cfg.col), df=self.df,\n",
    "                                  tl=True)\n",
    "\n",
    "    def factorplot(self, cfg: Cfplot):\n",
    "        \"\"\" Factor bar plot\n",
    "\n",
    "        :param cfg: Plotting configuration\n",
    "        :return: Plotting context.\n",
    "        \"\"\"\n",
    "        import seaborn as sbn\n",
    "        return self.plot_template(cfg, lambda df_, a: sbn.catplot(\n",
    "            x='name', y='incidence', hue='measure', data=df_, kind='bar', height=8, aspect=2.5),\n",
    "                                  tick=True, y_lim=(0, 1))\n",
    "\n",
    "    def violinplot(self, cfg: Cfplot):\n",
    "        \"\"\" Violin gaussian plot\n",
    "\n",
    "        :param cfg: Plotting configuration\n",
    "        :return: Plotting context.\n",
    "        \"\"\"\n",
    "        import seaborn as sbn\n",
    "        return self.plot_template(cfg, lambda df_, a: sbn.boxplot(\n",
    "            x='name', y='incidence', hue='measure', data=df_), y_lim=(-1, 2), tl=True)\n",
    "\n",
    "    def histplot(self, cfg: Cfplot):\n",
    "        \"\"\" Histogram bar plot\n",
    "\n",
    "        :param cfg: Plotting configuration\n",
    "        :return: Plotting context.\n",
    "        \"\"\"\n",
    "        import seaborn as sbn\n",
    "        return self.plot_template(cfg, lambda df_, a: sbn.histplot(\n",
    "            data=df_, stat=\"count\", multiple=\"stack\",\n",
    "            x=\"incidence\", kde=False,\n",
    "            palette=\"pastel\", hue=\"measure\",\n",
    "            element=\"bars\", legend=True, ax=a),\n",
    "                                  x_lim=(9, None), y_lim=(0, 8))\n",
    "\n",
    "    def heatmap(self, cfg: Cfplot):\n",
    "        \"\"\" Correlation map for cognition profiles\n",
    "\n",
    "        :param cfg: Plotting configuration\n",
    "        :return: Plotting context.\n",
    "        \"\"\"\n",
    "        from matplotlib import pyplot as plt_\n",
    "        import numpy as np\n",
    "        plt_.figure(figsize=(15, 8))\n",
    "        df_ = self.refine_point_value_info()\n",
    "        df_ = df_.drop(columns=['name'], inplace=False)\n",
    "        # Compute the correlation matrix\n",
    "        corr = df_.corr()\n",
    "        # Generate a mask for the upper triangle\n",
    "        mask = np.triu(np.ones_like(corr, dtype=bool))\n",
    "        # Generate a custom diverging colormap\n",
    "        cmap = sns.diverging_palette(230, 20, as_cmap=True)\n",
    "        # Draw the heatmap with the mask and correct aspect ratio\n",
    "        # chart_ = sns.heatmap(corr, cmap=cmap, vmax=.3, center=0,\n",
    "        chart_ = sns.heatmap(corr, mask=mask, cmap=cmap, vmax=.3, center=0,\n",
    "                             square=True, linewidths=.5, cbar_kws={\"shrink\": .5})\n",
    "        _ = chart_.set(title=cfg.title, ylabel=cfg.ylabel, xlabel=cfg.xlabel)\n",
    "        return plt_\n",
    "\n",
    "    def run_plotting(self, kind, data_frame):\n",
    "        \"\"\" Plotting service selector\n",
    "\n",
    "        :param kind: Selection key\n",
    "        :param data_frame: Data to be plotted.\n",
    "        :return: Plotting context\n",
    "        \"\"\"\n",
    "        plotters = dict(value=self.plot, plot=self.plot, factor=self.factorplot,\n",
    "                        violin=self.violinplot, hist=self.histplot, heat=self.heatmap)\n",
    "        # from dash import Plotting as Plot\n",
    "        configurations = dict(Plot.plotting)\n",
    "        configurations[kind].pop(\"sub_title\") if \"sub_title\" in configurations[kind] else None\n",
    "        self.retrieve_oid_from_person_df(data_frame)\n",
    "        return plotters[kind](WiscPlot.Cfplot(**configurations[kind]))\n",
    "\n",
    "# out = WiscPlot().rerieve_oid_from_person_df(df_players).refine_point_value_info()\n",
    "conf0 = WiscPlot.Cfplot(\n",
    "     col='ponto', title='Contagem dos Pontos Wisc', ylabel='Contagem de Pontos', xlabel=\"Participantes\")\n",
    "# out = WiscPlot().rerieve_oid_from_person_df(df_players).factorplot(conf)\n",
    "conf = WiscPlot.Cfplot(\n",
    "     col='ponto', title='Histograma das medidas do Wisc', ylabel='frequência das incidência', xlabel=\"incidência das medidas\")\n",
    "out = WiscPlot().retrieve_oid_from_person_df(df_players).histplot(conf)\n",
    "# out = WiscPlot().rerieve_oid_from_person_df(df_players).violinplot(conf)\n",
    "# out = WiscPlot().rerieve_oid_from_person_df(df_players).heatmap(conf)\n",
    "# out = WiscPlot().rerieve_oid_from_person_df(df_players).plot(conf)\n",
    "# print(out)\n",
    "# WiscPlot().rerieve_oid_from_person_df(df_players).refine_point_value_info()"
   ],
   "metadata": {
    "collapsed": false,
    "pycharm": {
     "name": "#%%\n"
    }
   }
  },
  {
   "cell_type": "markdown",
   "source": [
    "## KDE Plot"
   ],
   "metadata": {
    "collapsed": false
   }
  },
  {
   "cell_type": "code",
   "execution_count": null,
   "outputs": [],
   "source": [
    "f, ax = plt.subplots(figsize=(10, 10))\n",
    "sns.kdeplot(\n",
    "    data=WiscPlot().retrieve_oid_from_person_df(df_players).refine_point_value_info(),\n",
    "    x=\"conservation\",\n",
    "    y=\"deviation\",\n",
    "    hue=\"name\",\n",
    "    thresh=.1,\n",
    ")\n",
    "ax.set_xlim((-1,2.5))  #\n",
    "ax.set_ylim((-1,2.5))"
   ],
   "metadata": {
    "collapsed": false
   }
  },
  {
   "cell_type": "markdown",
   "source": [
    "## Scatter plot"
   ],
   "metadata": {
    "collapsed": false
   }
  },
  {
   "cell_type": "markdown",
   "source": [],
   "metadata": {
    "collapsed": false
   }
  },
  {
   "cell_type": "code",
   "execution_count": null,
   "outputs": [],
   "source": [
    "sns.relplot(hue=\"name\", x=\"conservation\", y=\"deviation\", size=\"oposition\",\n",
    "            sizes=(40, 400), alpha=.5, palette=\"muted\",\n",
    "            height=10, data=WiscPlot().retrieve_oid_from_person_df(df_players).refine_point_value_info())\n"
   ],
   "metadata": {
    "collapsed": false
   }
  },
  {
   "cell_type": "markdown",
   "source": [
    "## Joint Plot"
   ],
   "metadata": {
    "collapsed": false
   }
  },
  {
   "cell_type": "code",
   "execution_count": null,
   "outputs": [],
   "source": [
    "g = sns.jointplot(\n",
    "    data= WiscPlot().retrieve_oid_from_person_df(df_players).refine_point_value_info()\n",
    ",\n",
    "    x=\"conservation\", y=\"ambiguation\", hue=\"name\", height=10, xlim = (-2,3),\n",
    "    kind=\"kde\",\n",
    ")\n",
    "# g.set(xlim=(-8,8))"
   ],
   "metadata": {
    "collapsed": false
   }
  },
  {
   "cell_type": "markdown",
   "source": [
    "## Joint oposition deviation"
   ],
   "metadata": {
    "collapsed": false
   }
  },
  {
   "cell_type": "code",
   "execution_count": null,
   "outputs": [],
   "source": [
    "g = sns.jointplot(\n",
    "    data= WiscPlot().retrieve_oid_from_person_df(df_players).refine_point_value_info()\n",
    ",\n",
    "    x=\"oposition\", y=\"deviation\", hue=\"name\", height=10, ylim = (-1,3.5), xlim = (-1,1.5),\n",
    "    kind=\"kde\",\n",
    ")\n"
   ],
   "metadata": {
    "collapsed": false
   }
  },
  {
   "cell_type": "markdown",
   "source": [
    "## Pair Plot"
   ],
   "metadata": {
    "collapsed": false
   }
  },
  {
   "cell_type": "code",
   "execution_count": null,
   "outputs": [],
   "source": [
    "sns.set_theme(style=\"ticks\")\n",
    "dfp = WiscPlot().retrieve_oid_from_person_df(df_players).refine_point_value_info()\n",
    "# df = sns.load_dataset(\"penguins\")\n",
    "sns.pairplot(dfp, hue=\"name\")\n"
   ],
   "metadata": {
    "collapsed": false
   }
  },
  {
   "cell_type": "markdown",
   "source": [
    "## Factor plot"
   ],
   "metadata": {
    "collapsed": false
   }
  },
  {
   "cell_type": "code",
   "execution_count": null,
   "outputs": [],
   "source": [
    "out = WiscPlot().retrieve_oid_from_person_df(df_players).factorplot(conf)\n"
   ],
   "metadata": {
    "collapsed": false
   }
  },
  {
   "cell_type": "markdown",
   "source": [
    "### Plotagem das contagens dos valores do Wiconsin"
   ],
   "metadata": {
    "collapsed": false
   }
  },
  {
   "cell_type": "code",
   "execution_count": null,
   "outputs": [],
   "source": [
    "conf = WiscPlot.Cfplot(\n",
    "     col='valor', title='Contagem dos Valores Wisc', ylabel='Contagem de Valores', xlabel=\"Participantes\")\n",
    "out = WiscPlot().retrieve_oid_from_person_df(df_players).plot(conf)\n"
   ],
   "metadata": {
    "collapsed": false
   }
  },
  {
   "cell_type": "markdown",
   "source": [
    "### Plotagem das contagens dos pontos do Wiconsin"
   ],
   "metadata": {
    "collapsed": false
   }
  },
  {
   "cell_type": "code",
   "execution_count": null,
   "outputs": [],
   "source": [
    "conf = WiscPlot.Cfplot(\n",
    "     col='ponto', title='Contagem dos Pontos Wisc', ylabel='Contagem de Pontos', xlabel=\"Participantes\")\n",
    "out = WiscPlot().retrieve_oid_from_person_df(df_players).plot(conf)\n"
   ],
   "metadata": {
    "collapsed": false
   }
  },
  {
   "cell_type": "markdown",
   "source": [
    "### Gráfico dos fatores das medidas do Wiconsin"
   ],
   "metadata": {
    "collapsed": false
   }
  },
  {
   "cell_type": "code",
   "execution_count": null,
   "outputs": [],
   "source": [
    "conf = WiscPlot.Cfplot(\n",
    "     col='ponto', title='Contagem dos Pontos Wisc', ylabel='Contagem de Pontos', xlabel=\"Participantes\")\n",
    "out = WiscPlot().retrieve_oid_from_person_df(df_players).factorplot(conf)\n"
   ],
   "metadata": {
    "collapsed": false
   }
  },
  {
   "cell_type": "markdown",
   "source": [
    "### Gráfico de violino das medidas do Wiconsin"
   ],
   "metadata": {
    "collapsed": false
   }
  },
  {
   "cell_type": "code",
   "execution_count": null,
   "outputs": [],
   "source": [
    "conf = WiscPlot.Cfplot(\n",
    "    col='ponto', title='Gráfico de Violino das medidas do Wisc', ylabel='frequência das incidência',\n",
    "    xlabel=\"incidência das medidas\")\n",
    "out = WiscPlot().retrieve_oid_from_person_df(df_players).violinplot(conf)\n"
   ],
   "metadata": {
    "collapsed": false
   }
  },
  {
   "cell_type": "markdown",
   "source": [
    "### Histograma das medidas do Wiconsin"
   ],
   "metadata": {
    "collapsed": false
   }
  },
  {
   "cell_type": "code",
   "execution_count": null,
   "outputs": [],
   "source": [
    "conf = WiscPlot.Cfplot(\n",
    "     col='ponto', title='Histograma das medidas do Wisc', ylabel='frequência das incidência', xlabel=\"incidência das medidas\")\n",
    "out = WiscPlot().retrieve_oid_from_person_df(df_players).histplot(conf)\n"
   ],
   "metadata": {
    "collapsed": false
   }
  },
  {
   "cell_type": "markdown",
   "source": [
    "### Correlação das medidas do Wiconsin"
   ],
   "metadata": {
    "collapsed": false
   }
  },
  {
   "cell_type": "code",
   "execution_count": null,
   "outputs": [],
   "source": [
    "conf = WiscPlot.Cfplot(\n",
    "     col='ponto', title='Correlação das medidas do Wisc', ylabel='lista das incidência', xlabel=\"lista das incidências\")\n",
    "out = WiscPlot().retrieve_oid_from_person_df(df_players).heatmap(conf)\n"
   ],
   "metadata": {
    "collapsed": false
   }
  },
  {
   "cell_type": "code",
   "execution_count": null,
   "metadata": {
    "pycharm": {
     "name": "#%%\n"
    }
   },
   "outputs": [],
   "source": [
    "import seaborn as sns\n",
    "from matplotlib import pyplot as plt\n",
    "_ = plt.figure(figsize=(15,8))\n",
    "chart = sns.countplot(data=dfwc, x=\"name\", hue=\"ponto\")\n",
    "_ = chart.set(title='Contagem dos Pontos Wisc', ylabel='Contagem de Pontos', xlabel=\"Participantes\")\n",
    "_ = chart.set_xticklabels(chart.get_xticklabels(), rotation=45, horizontalalignment='right')"
   ]
  },
  {
   "cell_type": "markdown",
   "metadata": {
    "pycharm": {
     "name": "#%% md\n"
    }
   },
   "source": [
    "## Gráfico de distribuição dos pontos no Wisc"
   ]
  },
  {
   "cell_type": "code",
   "execution_count": null,
   "metadata": {
    "pycharm": {
     "name": "#%%\n"
    }
   },
   "outputs": [],
   "source": [
    "import seaborn as sns\n",
    "from matplotlib import pyplot as plt\n",
    "pd.to_numeric(dfwc.ponto)\n",
    "_ = plt.figure(figsize=(15,8))\n",
    "chart = sns.displot(data=dfwc, x=\"ponto\")\n",
    "_ = chart.set(title='Distribuição dos Pontos Wisc', ylabel='Contagem de Pontos', xlabel=\"Pontuações\")"
   ]
  },
  {
   "cell_type": "markdown",
   "metadata": {
    "pycharm": {
     "name": "#%% md\n"
    }
   },
   "source": [
    "## Gráfico da distribuição dos valores no Wisc"
   ]
  },
  {
   "cell_type": "code",
   "execution_count": null,
   "metadata": {
    "pycharm": {
     "name": "#%%\n"
    }
   },
   "outputs": [],
   "source": [
    "import seaborn as sns\n",
    "from matplotlib import pyplot as plt\n",
    "pd.to_numeric(dfwc.ponto)\n",
    "_ = plt.figure(figsize=(15,8))\n",
    "chart = sns.displot(data=dfwc, x=\"valor\")\n",
    "_ = chart.set(title='Distribuição dos Valores Wisc', ylabel='Contagem de Valores', xlabel=\"Valores\")"
   ]
  },
  {
   "cell_type": "markdown",
   "metadata": {
    "pycharm": {
     "name": "#%% md\n"
    }
   },
   "source": [
    "## Gráfico da correlação entre pontos e valores no Wisc"
   ]
  },
  {
   "cell_type": "code",
   "execution_count": null,
   "metadata": {
    "pycharm": {
     "name": "#%%\n"
    }
   },
   "outputs": [],
   "source": [
    "import numpy as np\n",
    "import seaborn as sns\n",
    "from matplotlib import pyplot as plt\n",
    "def jitter(values,j):\n",
    "    return values + np.random.normal(j,10,values.shape)\n",
    "cols = ['valor', 'ponto', 'carta']\n",
    "dfwc[cols] = dfwc[cols].apply(pd.to_numeric, errors='coerce', axis=1)\n",
    "# dfwc[\"ponto\"] = pd.to_numeric(dfwc.ponto)\n",
    "# pd.to_numeric(dfwc.valor)\n",
    "_ = plt.figure(figsize=(15,8))\n",
    "chart = sns.scatterplot(data=dfwc, x=jitter(dfwc.valor, 100), y=jitter(dfwc.ponto, 50), size=\"carta\", hue=\"trial\")\n",
    "_ = chart.set(title='Correlação dos Valores Wisc', ylabel='Valores', xlabel=\"Pontos\")"
   ]
  },
  {
   "cell_type": "markdown",
   "metadata": {
    "pycharm": {
     "name": "#%% md\n"
    }
   },
   "source": [
    "## Gráfico da contagem de valores do Wisc"
   ]
  },
  {
   "cell_type": "code",
   "execution_count": null,
   "metadata": {
    "pycharm": {
     "name": "#%%\n"
    }
   },
   "outputs": [],
   "source": [
    "import seaborn as sns\n",
    "from matplotlib import pyplot as plt\n",
    "_ = plt.figure(figsize=(15,8))\n",
    "chart = sns.countplot(data=dfwc, x=\"name\", hue=\"valor\")\n",
    "_ = chart.set(title='Contagem dos Valores Wisc', ylabel='Contagens de Valor', xlabel=\"Participantes\")\n",
    "_ = chart.set_xticklabels(chart.get_xticklabels(), rotation=45, horizontalalignment='right')"
   ]
  },
  {
   "cell_type": "markdown",
   "metadata": {
    "pycharm": {
     "name": "#%% md\n"
    }
   },
   "source": [
    "## Limpeza dos nomes dos valores de carta e ponto no EICA"
   ]
  },
  {
   "cell_type": "code",
   "execution_count": null,
   "metadata": {
    "pycharm": {
     "name": "#%%\n"
    }
   },
   "outputs": [],
   "source": [
    "dfei = dfa.loc[dfa['game'] == 'game']\n",
    "dfei['carta'] = [re.findall(r\"__(.+?)__\",text)[0] if type(text) == str and text.startswith('_') else text for text in dfei.carta.to_list()]\n",
    "dfei['ponto'] = [re.findall(r\"_(.+?)_\",text)[0] if type(text) == str and text.startswith('_') else text for text in dfei.ponto.to_list()]\n",
    "\n",
    "dfei"
   ]
  },
  {
   "cell_type": "markdown",
   "metadata": {
    "pycharm": {
     "name": "#%% md\n"
    }
   },
   "source": [
    "## Gráfico de contagem de pontos EICA"
   ]
  },
  {
   "cell_type": "code",
   "execution_count": null,
   "metadata": {
    "pycharm": {
     "name": "#%%\n"
    }
   },
   "outputs": [],
   "source": [
    "import seaborn as sns\n",
    "from matplotlib import pyplot as plt\n",
    "_ = plt.figure(figsize=(15,8))\n",
    "chart = sns.countplot(data=dfei, x=\"name\", hue=\"ponto\")\n",
    "_ = chart.set(title='Contagem de Pontos do Eica', ylabel='Contagens de Pontos', xlabel=\"Participantes\")\n",
    "_ = chart.set_xticklabels(chart.get_xticklabels(), rotation=45, horizontalalignment='right')"
   ]
  },
  {
   "cell_type": "markdown",
   "metadata": {
    "pycharm": {
     "name": "#%% md\n"
    }
   },
   "source": [
    "## Gráfico de contagem de cartas do EICA"
   ]
  },
  {
   "cell_type": "code",
   "execution_count": null,
   "metadata": {
    "pycharm": {
     "name": "#%%\n"
    }
   },
   "outputs": [],
   "source": [
    "import seaborn as sns\n",
    "from matplotlib import pyplot as plt\n",
    "_ = plt.figure(figsize=(15,8))\n",
    "chart = sns.countplot(data=dfei, x=\"name\", hue=\"carta\")\n",
    "_ = chart.set(title='Contagem de Cartas do Eica', ylabel='Contagens de Carta', xlabel=\"Participantes\")\n",
    "_ = chart.set_xticklabels(chart.get_xticklabels(), rotation=45, horizontalalignment='right')"
   ]
  },
  {
   "cell_type": "code",
   "execution_count": null,
   "metadata": {
    "pycharm": {
     "name": "#%%\n"
    }
   },
   "outputs": [],
   "source": []
  }
 ],
 "metadata": {
  "kernelspec": {
   "display_name": "Python 3 (ipykernel)",
   "language": "python",
   "name": "python3"
  },
  "language_info": {
   "codemirror_mode": {
    "name": "ipython",
    "version": 3
   },
   "file_extension": ".py",
   "mimetype": "text/x-python",
   "name": "python",
   "nbconvert_exporter": "python",
   "pygments_lexer": "ipython3",
   "version": "3.10.6"
  }
 },
 "nbformat": 4,
 "nbformat_minor": 1
}
