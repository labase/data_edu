{
 "cells": [
  {
   "cell_type": "markdown",
   "source": [
    "# Estatísticas do Jogos da plataforma Alite\n",
    "\n",
    "  - This file is part of  program Alite.\n",
    "  - Copyright © 2023  Carlo Oliveira <carlo@nce.ufrj.br>.\n",
    "  - [Labase](http://labase.selfip.org) - [NCE](http://portal.nce.ufrj.br) - [UFRJ](http://www.ufrj.br).\n",
    "  - SPDX-License-Identifier: ([GNU General Public License v3.0 or later](https://www.gnu.org/licenses/gpl-3.0-standalone.html)).\n",
    "\n",
    "## Version and configurations.\n",
    "\n",
    " This module retrieves data and plot statistics for the [Alite - Games](https://games.alite.selfip.org).\n",
    "\n",
    "## [23.07](https://github.com/labase/data_edu/releases)\n",
    "\n",
    "### Added\n",
    "\n",
    "- Preliminary stats on Alite games data.\n",
    "- Classe adicionada para plotar wisconsin (14).\n",
    "\n"
   ],
   "metadata": {
    "collapsed": false
   }
  },
  {
   "cell_type": "markdown",
   "source": [
    "## Recebe dados dos games de alite e converte para dataframe"
   ],
   "metadata": {
    "collapsed": false
   }
  },
  {
   "cell_type": "code",
   "execution_count": null,
   "outputs": [],
   "source": [
    "import urllib.request, json\n",
    "import pandas as pd\n",
    "\n",
    "furl = 'https://games.alite.selfip.org/score/players'\n",
    "with urllib.request.urlopen(furl) as url:\n",
    "    data = json.loads(url.read().decode())\n",
    "    df = pd.DataFrame(data)\n",
    "\n",
    "df_players = df\n",
    "print(df)"
   ],
   "metadata": {
    "collapsed": false
   }
  },
  {
   "cell_type": "markdown",
   "source": [
    "## Converte lista de dicionários numa lista de nomes dos jogos"
   ],
   "metadata": {
    "collapsed": false
   }
  },
  {
   "cell_type": "code",
   "execution_count": null,
   "outputs": [],
   "source": [
    "dfg = [[g[\"game\"] for g in t] for t in df.games]\n",
    "# dfg = pd.DataFrame(dfg)\n",
    "df['games_l'] = [[g[\"game\"] for g in t] for t in df.games]\n",
    "df"
   ],
   "metadata": {
    "collapsed": false
   }
  },
  {
   "cell_type": "markdown",
   "source": [
    "## Contagem dentra das listas dos jogos"
   ],
   "metadata": {
    "collapsed": false
   }
  },
  {
   "cell_type": "code",
   "execution_count": null,
   "outputs": [],
   "source": [
    "from datetime import datetime, timedelta\n",
    "past = datetime.now() - timedelta(days=4)\n",
    "present = datetime.now()\n",
    "now = pd.Timestamp.now() #.tz_localize(None).tz_convert(None)\n",
    "df['eica'] = [sum([1 for g in t  if \"game\" in g]) for t in df.games_l.tolist()]\n",
    "df['wcst'] = [sum([1 for g in t  if \"wcst\" in g]) for t in df.games_l.tolist()]\n",
    "df[\"esc\"] = df[\"ano\"].apply(lambda x: int(str(x)[3:]))\n",
    "df[\"ida\"] = df[\"idade\"].apply(lambda x: int(str(x)[4:])+5)\n",
    "# df[\"old\"] = df[\"time\"].apply(lambda x: pd.to_timedelta(present-datetime.strptime(x[:-13], '%Y-%m-%d %H:%M:%S'), unit='D'))\n",
    "# df[\"old\"] = df[\"time\"].apply(lambda x: pd.to_timedelta(now-pd.to_datetime(x), unit='D'))\n",
    "df[\"old\"] = df[\"time\"].apply(lambda x: now - pd.to_datetime(x).tz_localize(None))\n",
    "df_rec = df.drop(df[(df.old > timedelta(days=4)) | (df[\"esc\"]<6)| (df[\"esc\"]>9)].index, inplace=False)\n",
    "# df_rec = df_rec.drop(df_rec[df_rec.old > timedelta(days=4)].index, inplace=False)\n",
    "# df_rec = df_rec.groupby(['name','esc', \"ida\"], as_index=False).agg({'eica':'sum', 'wcst':'sum', \"_id\":\"first\"}).reset_index()\n",
    "df_rec = df_rec.groupby(['name','esc', \"ida\", \"eica\",\"wcst\", \"_id\"], as_index=False) .agg({\"_id\":\"first\"}).reset_index()#.reset_index()\n",
    "# dfclean = df_rec.drop(columns=[\"_id\", \"games\", \"time\", \"games_l\", \"idade\", \"ano\"], inplace=False)\n",
    "df_rec"
   ],
   "metadata": {
    "collapsed": false
   }
  },
  {
   "cell_type": "markdown",
   "source": [
    "## Converte ObjectId para Identificador"
   ],
   "metadata": {
    "collapsed": false
   }
  },
  {
   "cell_type": "code",
   "execution_count": null,
   "outputs": [],
   "source": [
    "import re\n",
    "matches = [re.findall(r\"'(.+?)'\",text)[0] for text in df_rec._id.to_list()]\n",
    "df_rec[\"oid\"] = matches\n",
    "dfo = df_rec.drop('_id', axis=1)\n",
    " #.drop(df_rec[\"_id\"])\n",
    "# df_rec.oid[1]\n",
    "dfo"
   ],
   "metadata": {
    "collapsed": false
   }
  },
  {
   "cell_type": "markdown",
   "source": [
    "## Testa a recuperação dos dados de um jogador"
   ],
   "metadata": {
    "collapsed": false
   }
  },
  {
   "cell_type": "code",
   "execution_count": null,
   "outputs": [],
   "source": [
    "import urllib.request, json\n",
    "import pandas as pd\n",
    "# ObjectId('649f0ffab9995c27c863da75')\n",
    "def dt(g):\n",
    "    k, l = g[\"scorer\"][0][\"time\"], g[\"scorer\"][-1][\"time\"]\n",
    "    k, l = pd.to_datetime(k).tz_localize(None), pd.to_datetime(l).tz_localize(None)\n",
    "    return pd.Timedelta(l-k, unit=\"min\").seconds //60\n",
    "\n",
    "def gm(oid):\n",
    "    # furl = 'https://games.alite.selfip.org/score/games?oid=6477cf19f626d3cb95e08c92'\n",
    "    # furl = f'https://games.alite.selfip.org/score/games?oid=649f0ffab9995c27c863da75'\n",
    "    furl = f'https://games.alite.selfip.org/score/games?oid={oid}'\n",
    "    with urllib.request.urlopen(furl) as url:\n",
    "        data = json.loads(url.read().decode())\n",
    "        # df = pd.DataFrame(data)\n",
    "        game = max((dt(g)for g in data if g[\"scorer\"] and g[\"game\"] ==\"game\"), default=0)\n",
    "        wsct = max((dt(g)for g in data if g[\"scorer\"] and g[\"game\"] ==\"wsct\"), default=0)\n",
    "        return f\"{game} {wsct}\"\n",
    "print(gm(\"649f0ffab9995c27c863da75\"))"
   ],
   "metadata": {
    "collapsed": false
   }
  },
  {
   "cell_type": "markdown",
   "source": [
    "## Listagem dos tempos de Jogo por jogador"
   ],
   "metadata": {
    "collapsed": false
   }
  },
  {
   "cell_type": "code",
   "execution_count": null,
   "outputs": [],
   "source": [
    "dfo[\"ws_ga\"] = dfo[\"oid\"].apply(lambda x: gm(x))\n",
    "dfo[[ 'gt', 'wt']] = dfo['ws_ga'].str.split(' ', expand=True)\n",
    "dfo['wtmx'] = dfo['wt'].apply(lambda x: int(x))\n",
    "dfo['gtmx'] = dfo['gt'].apply(lambda x: int(x))\n",
    "# dfo[['wt', 'gt']] = dfo['ws_ga'].str.extract('(\\d+) (\\d+)', expand=True)\n",
    "# def inter(k, l):\n",
    "#     return int(k), int(l)\n",
    "# dfo[['wt1', 'gt1']] = dfo.apply(lambda x: inter(x[\"wt\"], x[\"gt\"]), axis=1)\n",
    "# def inter(ard):\n",
    "#     return int(ard[\"wt\"]), int(ard[\"gt\"])\n",
    "# dfo[['wt1', 'gt1']] = dfo.apply(inter, axis=1)\n",
    "\n",
    "dfo = dfo.groupby(\n",
    "    ['name','esc', \"ida\"], as_index=False\n",
    ").agg({'wtmx':'sum', 'gtmx':'sum', 'eica':'sum', 'wcst':'sum', \"esc\":\"first\", \"ida\":\"first\"}).reset_index()\n",
    "\n",
    "dfo\n",
    "# df.games"
   ],
   "metadata": {
    "collapsed": false
   }
  },
  {
   "cell_type": "markdown",
   "source": [
    "# Recuperação e plotagem das jogadas"
   ],
   "metadata": {
    "collapsed": false
   }
  },
  {
   "cell_type": "markdown",
   "source": [
    "## Pedido dos dados ao servidor e converte num arcabouço de dados"
   ],
   "metadata": {
    "collapsed": false
   }
  },
  {
   "cell_type": "code",
   "execution_count": null,
   "outputs": [],
   "source": [
    "import seaborn as sns\n",
    "from matplotlib import pyplot as plt\n",
    "dfx = dfo #.explode('games_l')\n",
    "# dfm = pd.melt(df, 'games_l')\n",
    "_ = plt.figure(figsize=(15,8))\n",
    "chart = sns.barplot(data=dfx, x=\"name\", y=\"gtmx\", hue=\"ida\")\n",
    "_ = chart.set(title='Contagem dos Jogos', ylabel='Número de Jogos', xlabel=\"Participantes\")\n",
    "_ = chart.set_xticklabels(chart.get_xticklabels(), rotation=45, horizontalalignment='right')\n"
   ],
   "metadata": {
    "collapsed": false
   }
  }
 ],
 "metadata": {
  "kernelspec": {
   "display_name": "Python 3 (ipykernel)",
   "language": "python",
   "name": "python3"
  },
  "language_info": {
   "codemirror_mode": {
    "name": "ipython",
    "version": 3
   },
   "file_extension": ".py",
   "mimetype": "text/x-python",
   "name": "python",
   "nbconvert_exporter": "python",
   "pygments_lexer": "ipython3",
   "version": "3.10.6"
  }
 },
 "nbformat": 4,
 "nbformat_minor": 1
}
