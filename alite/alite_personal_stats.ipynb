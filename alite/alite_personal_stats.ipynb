{
 "cells": [
  {
   "cell_type": "markdown",
   "metadata": {
    "pycharm": {
     "name": "#%% md\n"
    }
   },
   "source": [
    "# Estatísticas do Jogos da plataforma Alite\n",
    "\n",
    "  - This file is part of  program Alite.\n",
    "  - Copyright © 2023  Carlo Oliveira <carlo@nce.ufrj.br>.\n",
    "  - [Labase](http://labase.selfip.org) - [NCE](http://portal.nce.ufrj.br) - [UFRJ](http://www.ufrj.br).\n",
    "  - SPDX-License-Identifier: ([GNU General Public License v3.0 or later](https://www.gnu.org/licenses/gpl-3.0-standalone.html)).\n",
    "\n",
    "## Version and configurations.\n",
    "\n",
    " This module retrieves data and plot statistics for the [Alite - Games](https://games.alite.selfip.org).\n",
    "\n",
    "## [23.07](https://github.com/labase/data_edu/releases)\n",
    "\n",
    "### Added\n",
    "\n",
    "- Preliminary stats on Alite games data.\n",
    "- Classe adicionada para plotar wisconsin (14).\n",
    "\n"
   ]
  },
  {
   "cell_type": "markdown",
   "metadata": {
    "pycharm": {
     "name": "#%% md\n"
    }
   },
   "source": [
    "## Recebe dados dos games de alite e converte para dataframe"
   ]
  },
  {
   "cell_type": "code",
   "execution_count": 2,
   "metadata": {
    "pycharm": {
     "name": "#%%\n"
    },
    "ExecuteTime": {
     "end_time": "2023-07-04T00:47:06.751308475Z",
     "start_time": "2023-07-04T00:47:06.362439479Z"
    }
   },
   "outputs": [
    {
     "name": "stdout",
     "output_type": "stream",
     "text": [
      "                                     _id                   name    ano  \\\n",
      "0   ObjectId('6477ce20f626d3cb95e08c8f')                  admin   ano1   \n",
      "1   ObjectId('6477cf19f626d3cb95e08c92')                  outro   ano2   \n",
      "2   ObjectId('647b8008f626d3cb95e08c98')            Pedro Lomba   ano9   \n",
      "3   ObjectId('647b85f9f626d3cb95e08c9b')                 daniel   ano9   \n",
      "4   ObjectId('647b86cbf626d3cb95e08c9d')               kduzinho   ano1   \n",
      "5   ObjectId('647b8f68f626d3cb95e08c9f')     Carolina Fantinato   ano9   \n",
      "6   ObjectId('647fa41a442f27c3f236c16c')                 labase   ano1   \n",
      "7   ObjectId('649d7851b9995c27c863da60')            labase anni   ano1   \n",
      "8   ObjectId('649f05dcb9995c27c863da64')                leandro   ano7   \n",
      "9   ObjectId('649f06afb9995c27c863da66')          Julia Almeida   ano7   \n",
      "10  ObjectId('649f07ddb9995c27c863da68')                  Italo   ano7   \n",
      "11  ObjectId('649f0f5bb9995c27c863da6e')                  pedro   ano7   \n",
      "12  ObjectId('649f0f9ab9995c27c863da70')              thimberly   ano7   \n",
      "13  ObjectId('649f0ffab9995c27c863da75')              thimberly   ano7   \n",
      "14  ObjectId('649f10ceb9995c27c863da80')                 raissa   ano7   \n",
      "15  ObjectId('649f144db9995c27c863da84')                  pedro   ano7   \n",
      "16  ObjectId('649f1732b9995c27c863da88')            Júlya Cunha   ano7   \n",
      "17  ObjectId('649f17e0b9995c27c863da8c')               Fernando   ano7   \n",
      "18  ObjectId('64a023adb9995c27c863da8e')  Vanessa Vianna (ufrj)   ano0   \n",
      "19  ObjectId('64a31915b23753d1d92bcb6c')                     eu  ano15   \n",
      "\n",
      "         sexo   idade                              time  \\\n",
      "0   masculino  anos10  2023-05-31 19:45:52.561244-03:00   \n",
      "1    feminino   anos9  2023-05-31 19:50:01.899904-03:00   \n",
      "2   masculino  anos10  2023-06-03 15:01:44.637563-03:00   \n",
      "3   masculino  anos10  2023-06-03 15:27:05.449207-03:00   \n",
      "4   masculino   anos1  2023-06-03 15:30:35.506478-03:00   \n",
      "5    feminino  anos10  2023-06-03 16:07:20.229405-03:00   \n",
      "6   masculino   anos1  2023-06-06 18:24:42.655420-03:00   \n",
      "7    feminino  anos10  2023-06-29 09:25:53.347255-03:00   \n",
      "8   masculino  anos10  2023-06-30 13:42:04.089456-03:00   \n",
      "9    feminino   anos8  2023-06-30 13:45:35.837484-03:00   \n",
      "10  masculino   anos9  2023-06-30 13:50:37.612930-03:00   \n",
      "11  masculino   anos9  2023-06-30 14:22:35.268721-03:00   \n",
      "12   feminino   anos9  2023-06-30 14:23:38.866296-03:00   \n",
      "13   feminino   anos9  2023-06-30 14:25:14.907031-03:00   \n",
      "14   feminino   anos7  2023-06-30 14:28:46.455544-03:00   \n",
      "15  masculino   anos9  2023-06-30 14:43:41.379454-03:00   \n",
      "16   feminino   anos8  2023-06-30 14:56:02.145768-03:00   \n",
      "17  masculino  anos10  2023-06-30 14:58:56.063871-03:00   \n",
      "18   feminino   anos0  2023-07-01 10:01:33.702116-03:00   \n",
      "19  masculino  anos17  2023-07-03 15:53:09.370727-03:00   \n",
      "\n",
      "                                                games  \n",
      "0   [{'game': 'wcst', 'goal': 0, 'trial': 0, 'scor...  \n",
      "1   [{'game': 'wcst', 'goal': 0, 'trial': 0, 'scor...  \n",
      "2   [{'game': 'game', 'goal': 0, 'trial': 0, 'scor...  \n",
      "3   [{'game': 'wcst', 'goal': 0, 'trial': 0, 'scor...  \n",
      "4   [{'game': 'game', 'goal': 0, 'trial': 0, 'scor...  \n",
      "5   [{'game': 'game', 'goal': 0, 'trial': 0, 'scor...  \n",
      "6   [{'game': 'game', 'goal': 0, 'trial': 0, 'scor...  \n",
      "7   [{'game': 'game', 'goal': 0, 'trial': 0, 'scor...  \n",
      "8   [{'game': 'game', 'goal': 0, 'trial': 0, 'scor...  \n",
      "9   [{'game': 'game', 'goal': 0, 'trial': 0, 'scor...  \n",
      "10  [{'game': 'game', 'goal': 0, 'trial': 0, 'scor...  \n",
      "11  [{'game': 'game', 'goal': 0, 'trial': 0, 'scor...  \n",
      "12  [{'game': 'game', 'goal': 0, 'trial': 0, 'scor...  \n",
      "13  [{'game': 'game', 'goal': 0, 'trial': 0, 'scor...  \n",
      "14  [{'game': 'game', 'goal': 0, 'trial': 0, 'scor...  \n",
      "15  [{'game': 'game', 'goal': 0, 'trial': 0, 'scor...  \n",
      "16  [{'game': 'game', 'goal': 0, 'trial': 0, 'scor...  \n",
      "17  [{'game': 'game', 'goal': 0, 'trial': 0, 'scor...  \n",
      "18  [{'game': 'game', 'goal': 0, 'trial': 0, 'scor...  \n",
      "19  [{'game': 'wcst', 'goal': 0, 'trial': 0, 'scor...  \n"
     ]
    }
   ],
   "source": [
    "import urllib.request, json\n",
    "import pandas as pd\n",
    "\n",
    "furl = 'https://games.alite.selfip.org/score/players'\n",
    "with urllib.request.urlopen(furl) as url:\n",
    "    data = json.loads(url.read().decode())\n",
    "    df = pd.DataFrame(data)\n",
    "\n",
    "df_players = df\n",
    "print(df)"
   ]
  },
  {
   "cell_type": "markdown",
   "metadata": {
    "pycharm": {
     "name": "#%% md\n"
    }
   },
   "source": [
    "## Converte lista de dicionários numa lista de nomes dos jogos"
   ]
  },
  {
   "cell_type": "code",
   "execution_count": 3,
   "metadata": {
    "pycharm": {
     "name": "#%%\n"
    },
    "ExecuteTime": {
     "end_time": "2023-07-04T00:47:08.902749244Z",
     "start_time": "2023-07-04T00:47:08.868721574Z"
    }
   },
   "outputs": [
    {
     "data": {
      "text/plain": "                                     _id                   name    ano  \\\n0   ObjectId('6477ce20f626d3cb95e08c8f')                  admin   ano1   \n1   ObjectId('6477cf19f626d3cb95e08c92')                  outro   ano2   \n2   ObjectId('647b8008f626d3cb95e08c98')            Pedro Lomba   ano9   \n3   ObjectId('647b85f9f626d3cb95e08c9b')                 daniel   ano9   \n4   ObjectId('647b86cbf626d3cb95e08c9d')               kduzinho   ano1   \n5   ObjectId('647b8f68f626d3cb95e08c9f')     Carolina Fantinato   ano9   \n6   ObjectId('647fa41a442f27c3f236c16c')                 labase   ano1   \n7   ObjectId('649d7851b9995c27c863da60')            labase anni   ano1   \n8   ObjectId('649f05dcb9995c27c863da64')                leandro   ano7   \n9   ObjectId('649f06afb9995c27c863da66')          Julia Almeida   ano7   \n10  ObjectId('649f07ddb9995c27c863da68')                  Italo   ano7   \n11  ObjectId('649f0f5bb9995c27c863da6e')                  pedro   ano7   \n12  ObjectId('649f0f9ab9995c27c863da70')              thimberly   ano7   \n13  ObjectId('649f0ffab9995c27c863da75')              thimberly   ano7   \n14  ObjectId('649f10ceb9995c27c863da80')                 raissa   ano7   \n15  ObjectId('649f144db9995c27c863da84')                  pedro   ano7   \n16  ObjectId('649f1732b9995c27c863da88')            Júlya Cunha   ano7   \n17  ObjectId('649f17e0b9995c27c863da8c')               Fernando   ano7   \n18  ObjectId('64a023adb9995c27c863da8e')  Vanessa Vianna (ufrj)   ano0   \n19  ObjectId('64a31915b23753d1d92bcb6c')                     eu  ano15   \n\n         sexo   idade                              time  \\\n0   masculino  anos10  2023-05-31 19:45:52.561244-03:00   \n1    feminino   anos9  2023-05-31 19:50:01.899904-03:00   \n2   masculino  anos10  2023-06-03 15:01:44.637563-03:00   \n3   masculino  anos10  2023-06-03 15:27:05.449207-03:00   \n4   masculino   anos1  2023-06-03 15:30:35.506478-03:00   \n5    feminino  anos10  2023-06-03 16:07:20.229405-03:00   \n6   masculino   anos1  2023-06-06 18:24:42.655420-03:00   \n7    feminino  anos10  2023-06-29 09:25:53.347255-03:00   \n8   masculino  anos10  2023-06-30 13:42:04.089456-03:00   \n9    feminino   anos8  2023-06-30 13:45:35.837484-03:00   \n10  masculino   anos9  2023-06-30 13:50:37.612930-03:00   \n11  masculino   anos9  2023-06-30 14:22:35.268721-03:00   \n12   feminino   anos9  2023-06-30 14:23:38.866296-03:00   \n13   feminino   anos9  2023-06-30 14:25:14.907031-03:00   \n14   feminino   anos7  2023-06-30 14:28:46.455544-03:00   \n15  masculino   anos9  2023-06-30 14:43:41.379454-03:00   \n16   feminino   anos8  2023-06-30 14:56:02.145768-03:00   \n17  masculino  anos10  2023-06-30 14:58:56.063871-03:00   \n18   feminino   anos0  2023-07-01 10:01:33.702116-03:00   \n19  masculino  anos17  2023-07-03 15:53:09.370727-03:00   \n\n                                                games  \\\n0   [{'game': 'wcst', 'goal': 0, 'trial': 0, 'scor...   \n1   [{'game': 'wcst', 'goal': 0, 'trial': 0, 'scor...   \n2   [{'game': 'game', 'goal': 0, 'trial': 0, 'scor...   \n3   [{'game': 'wcst', 'goal': 0, 'trial': 0, 'scor...   \n4   [{'game': 'game', 'goal': 0, 'trial': 0, 'scor...   \n5   [{'game': 'game', 'goal': 0, 'trial': 0, 'scor...   \n6   [{'game': 'game', 'goal': 0, 'trial': 0, 'scor...   \n7   [{'game': 'game', 'goal': 0, 'trial': 0, 'scor...   \n8   [{'game': 'game', 'goal': 0, 'trial': 0, 'scor...   \n9   [{'game': 'game', 'goal': 0, 'trial': 0, 'scor...   \n10  [{'game': 'game', 'goal': 0, 'trial': 0, 'scor...   \n11  [{'game': 'game', 'goal': 0, 'trial': 0, 'scor...   \n12  [{'game': 'game', 'goal': 0, 'trial': 0, 'scor...   \n13  [{'game': 'game', 'goal': 0, 'trial': 0, 'scor...   \n14  [{'game': 'game', 'goal': 0, 'trial': 0, 'scor...   \n15  [{'game': 'game', 'goal': 0, 'trial': 0, 'scor...   \n16  [{'game': 'game', 'goal': 0, 'trial': 0, 'scor...   \n17  [{'game': 'game', 'goal': 0, 'trial': 0, 'scor...   \n18  [{'game': 'game', 'goal': 0, 'trial': 0, 'scor...   \n19  [{'game': 'wcst', 'goal': 0, 'trial': 0, 'scor...   \n\n                                              games_l  \n0                                        [wcst, game]  \n1                            [wcst, wcst, game, game]  \n2                                              [game]  \n3                                              [wcst]  \n4                                              [game]  \n5                                              [game]  \n6                                        [game, wcst]  \n7                                  [game, game, wcst]  \n8                                        [game, game]  \n9                                        [game, game]  \n10                                 [game, game, game]  \n11                                       [game, game]  \n12                                 [game, game, game]  \n13  [game, game, game, game, game, game, game, gam...  \n14                                       [game, game]  \n15                           [game, game, game, game]  \n16                                             [game]  \n17                                             [game]  \n18                                             [game]  \n19                                       [wcst, game]  ",
      "text/html": "<div>\n<style scoped>\n    .dataframe tbody tr th:only-of-type {\n        vertical-align: middle;\n    }\n\n    .dataframe tbody tr th {\n        vertical-align: top;\n    }\n\n    .dataframe thead th {\n        text-align: right;\n    }\n</style>\n<table border=\"1\" class=\"dataframe\">\n  <thead>\n    <tr style=\"text-align: right;\">\n      <th></th>\n      <th>_id</th>\n      <th>name</th>\n      <th>ano</th>\n      <th>sexo</th>\n      <th>idade</th>\n      <th>time</th>\n      <th>games</th>\n      <th>games_l</th>\n    </tr>\n  </thead>\n  <tbody>\n    <tr>\n      <th>0</th>\n      <td>ObjectId('6477ce20f626d3cb95e08c8f')</td>\n      <td>admin</td>\n      <td>ano1</td>\n      <td>masculino</td>\n      <td>anos10</td>\n      <td>2023-05-31 19:45:52.561244-03:00</td>\n      <td>[{'game': 'wcst', 'goal': 0, 'trial': 0, 'scor...</td>\n      <td>[wcst, game]</td>\n    </tr>\n    <tr>\n      <th>1</th>\n      <td>ObjectId('6477cf19f626d3cb95e08c92')</td>\n      <td>outro</td>\n      <td>ano2</td>\n      <td>feminino</td>\n      <td>anos9</td>\n      <td>2023-05-31 19:50:01.899904-03:00</td>\n      <td>[{'game': 'wcst', 'goal': 0, 'trial': 0, 'scor...</td>\n      <td>[wcst, wcst, game, game]</td>\n    </tr>\n    <tr>\n      <th>2</th>\n      <td>ObjectId('647b8008f626d3cb95e08c98')</td>\n      <td>Pedro Lomba</td>\n      <td>ano9</td>\n      <td>masculino</td>\n      <td>anos10</td>\n      <td>2023-06-03 15:01:44.637563-03:00</td>\n      <td>[{'game': 'game', 'goal': 0, 'trial': 0, 'scor...</td>\n      <td>[game]</td>\n    </tr>\n    <tr>\n      <th>3</th>\n      <td>ObjectId('647b85f9f626d3cb95e08c9b')</td>\n      <td>daniel</td>\n      <td>ano9</td>\n      <td>masculino</td>\n      <td>anos10</td>\n      <td>2023-06-03 15:27:05.449207-03:00</td>\n      <td>[{'game': 'wcst', 'goal': 0, 'trial': 0, 'scor...</td>\n      <td>[wcst]</td>\n    </tr>\n    <tr>\n      <th>4</th>\n      <td>ObjectId('647b86cbf626d3cb95e08c9d')</td>\n      <td>kduzinho</td>\n      <td>ano1</td>\n      <td>masculino</td>\n      <td>anos1</td>\n      <td>2023-06-03 15:30:35.506478-03:00</td>\n      <td>[{'game': 'game', 'goal': 0, 'trial': 0, 'scor...</td>\n      <td>[game]</td>\n    </tr>\n    <tr>\n      <th>5</th>\n      <td>ObjectId('647b8f68f626d3cb95e08c9f')</td>\n      <td>Carolina Fantinato</td>\n      <td>ano9</td>\n      <td>feminino</td>\n      <td>anos10</td>\n      <td>2023-06-03 16:07:20.229405-03:00</td>\n      <td>[{'game': 'game', 'goal': 0, 'trial': 0, 'scor...</td>\n      <td>[game]</td>\n    </tr>\n    <tr>\n      <th>6</th>\n      <td>ObjectId('647fa41a442f27c3f236c16c')</td>\n      <td>labase</td>\n      <td>ano1</td>\n      <td>masculino</td>\n      <td>anos1</td>\n      <td>2023-06-06 18:24:42.655420-03:00</td>\n      <td>[{'game': 'game', 'goal': 0, 'trial': 0, 'scor...</td>\n      <td>[game, wcst]</td>\n    </tr>\n    <tr>\n      <th>7</th>\n      <td>ObjectId('649d7851b9995c27c863da60')</td>\n      <td>labase anni</td>\n      <td>ano1</td>\n      <td>feminino</td>\n      <td>anos10</td>\n      <td>2023-06-29 09:25:53.347255-03:00</td>\n      <td>[{'game': 'game', 'goal': 0, 'trial': 0, 'scor...</td>\n      <td>[game, game, wcst]</td>\n    </tr>\n    <tr>\n      <th>8</th>\n      <td>ObjectId('649f05dcb9995c27c863da64')</td>\n      <td>leandro</td>\n      <td>ano7</td>\n      <td>masculino</td>\n      <td>anos10</td>\n      <td>2023-06-30 13:42:04.089456-03:00</td>\n      <td>[{'game': 'game', 'goal': 0, 'trial': 0, 'scor...</td>\n      <td>[game, game]</td>\n    </tr>\n    <tr>\n      <th>9</th>\n      <td>ObjectId('649f06afb9995c27c863da66')</td>\n      <td>Julia Almeida</td>\n      <td>ano7</td>\n      <td>feminino</td>\n      <td>anos8</td>\n      <td>2023-06-30 13:45:35.837484-03:00</td>\n      <td>[{'game': 'game', 'goal': 0, 'trial': 0, 'scor...</td>\n      <td>[game, game]</td>\n    </tr>\n    <tr>\n      <th>10</th>\n      <td>ObjectId('649f07ddb9995c27c863da68')</td>\n      <td>Italo</td>\n      <td>ano7</td>\n      <td>masculino</td>\n      <td>anos9</td>\n      <td>2023-06-30 13:50:37.612930-03:00</td>\n      <td>[{'game': 'game', 'goal': 0, 'trial': 0, 'scor...</td>\n      <td>[game, game, game]</td>\n    </tr>\n    <tr>\n      <th>11</th>\n      <td>ObjectId('649f0f5bb9995c27c863da6e')</td>\n      <td>pedro</td>\n      <td>ano7</td>\n      <td>masculino</td>\n      <td>anos9</td>\n      <td>2023-06-30 14:22:35.268721-03:00</td>\n      <td>[{'game': 'game', 'goal': 0, 'trial': 0, 'scor...</td>\n      <td>[game, game]</td>\n    </tr>\n    <tr>\n      <th>12</th>\n      <td>ObjectId('649f0f9ab9995c27c863da70')</td>\n      <td>thimberly</td>\n      <td>ano7</td>\n      <td>feminino</td>\n      <td>anos9</td>\n      <td>2023-06-30 14:23:38.866296-03:00</td>\n      <td>[{'game': 'game', 'goal': 0, 'trial': 0, 'scor...</td>\n      <td>[game, game, game]</td>\n    </tr>\n    <tr>\n      <th>13</th>\n      <td>ObjectId('649f0ffab9995c27c863da75')</td>\n      <td>thimberly</td>\n      <td>ano7</td>\n      <td>feminino</td>\n      <td>anos9</td>\n      <td>2023-06-30 14:25:14.907031-03:00</td>\n      <td>[{'game': 'game', 'goal': 0, 'trial': 0, 'scor...</td>\n      <td>[game, game, game, game, game, game, game, gam...</td>\n    </tr>\n    <tr>\n      <th>14</th>\n      <td>ObjectId('649f10ceb9995c27c863da80')</td>\n      <td>raissa</td>\n      <td>ano7</td>\n      <td>feminino</td>\n      <td>anos7</td>\n      <td>2023-06-30 14:28:46.455544-03:00</td>\n      <td>[{'game': 'game', 'goal': 0, 'trial': 0, 'scor...</td>\n      <td>[game, game]</td>\n    </tr>\n    <tr>\n      <th>15</th>\n      <td>ObjectId('649f144db9995c27c863da84')</td>\n      <td>pedro</td>\n      <td>ano7</td>\n      <td>masculino</td>\n      <td>anos9</td>\n      <td>2023-06-30 14:43:41.379454-03:00</td>\n      <td>[{'game': 'game', 'goal': 0, 'trial': 0, 'scor...</td>\n      <td>[game, game, game, game]</td>\n    </tr>\n    <tr>\n      <th>16</th>\n      <td>ObjectId('649f1732b9995c27c863da88')</td>\n      <td>Júlya Cunha</td>\n      <td>ano7</td>\n      <td>feminino</td>\n      <td>anos8</td>\n      <td>2023-06-30 14:56:02.145768-03:00</td>\n      <td>[{'game': 'game', 'goal': 0, 'trial': 0, 'scor...</td>\n      <td>[game]</td>\n    </tr>\n    <tr>\n      <th>17</th>\n      <td>ObjectId('649f17e0b9995c27c863da8c')</td>\n      <td>Fernando</td>\n      <td>ano7</td>\n      <td>masculino</td>\n      <td>anos10</td>\n      <td>2023-06-30 14:58:56.063871-03:00</td>\n      <td>[{'game': 'game', 'goal': 0, 'trial': 0, 'scor...</td>\n      <td>[game]</td>\n    </tr>\n    <tr>\n      <th>18</th>\n      <td>ObjectId('64a023adb9995c27c863da8e')</td>\n      <td>Vanessa Vianna (ufrj)</td>\n      <td>ano0</td>\n      <td>feminino</td>\n      <td>anos0</td>\n      <td>2023-07-01 10:01:33.702116-03:00</td>\n      <td>[{'game': 'game', 'goal': 0, 'trial': 0, 'scor...</td>\n      <td>[game]</td>\n    </tr>\n    <tr>\n      <th>19</th>\n      <td>ObjectId('64a31915b23753d1d92bcb6c')</td>\n      <td>eu</td>\n      <td>ano15</td>\n      <td>masculino</td>\n      <td>anos17</td>\n      <td>2023-07-03 15:53:09.370727-03:00</td>\n      <td>[{'game': 'wcst', 'goal': 0, 'trial': 0, 'scor...</td>\n      <td>[wcst, game]</td>\n    </tr>\n  </tbody>\n</table>\n</div>"
     },
     "execution_count": 3,
     "metadata": {},
     "output_type": "execute_result"
    }
   ],
   "source": [
    "dfg = [[g[\"game\"] for g in t] for t in df.games]\n",
    "# dfg = pd.DataFrame(dfg)\n",
    "df['games_l'] = [[g[\"game\"] for g in t] for t in df.games]\n",
    "df"
   ]
  },
  {
   "cell_type": "markdown",
   "metadata": {
    "pycharm": {
     "name": "#%% md\n"
    }
   },
   "source": [
    "## Contagem dentra das listas dos jogos"
   ]
  },
  {
   "cell_type": "code",
   "execution_count": 17,
   "metadata": {
    "pycharm": {
     "name": "#%%\n"
    },
    "ExecuteTime": {
     "end_time": "2023-07-04T00:55:55.938548160Z",
     "start_time": "2023-07-04T00:55:55.892214016Z"
    }
   },
   "outputs": [
    {
     "data": {
      "text/plain": "   index           name  esc  ida  eica  wcst  \\\n0      0       Fernando    7   15     1     0   \n1      1          Italo    7   14     3     0   \n2      2  Julia Almeida    7   13     2     0   \n3      3    Júlya Cunha    7   13     1     0   \n4      4        leandro    7   15     2     0   \n5      5          pedro    7   14     2     0   \n6      6          pedro    7   14     4     0   \n7      7         raissa    7   12     2     0   \n8      8      thimberly    7   14     3     0   \n9      9      thimberly    7   14    11     0   \n\n                                    _id  \n0  ObjectId('649f17e0b9995c27c863da8c')  \n1  ObjectId('649f07ddb9995c27c863da68')  \n2  ObjectId('649f06afb9995c27c863da66')  \n3  ObjectId('649f1732b9995c27c863da88')  \n4  ObjectId('649f05dcb9995c27c863da64')  \n5  ObjectId('649f0f5bb9995c27c863da6e')  \n6  ObjectId('649f144db9995c27c863da84')  \n7  ObjectId('649f10ceb9995c27c863da80')  \n8  ObjectId('649f0f9ab9995c27c863da70')  \n9  ObjectId('649f0ffab9995c27c863da75')  ",
      "text/html": "<div>\n<style scoped>\n    .dataframe tbody tr th:only-of-type {\n        vertical-align: middle;\n    }\n\n    .dataframe tbody tr th {\n        vertical-align: top;\n    }\n\n    .dataframe thead th {\n        text-align: right;\n    }\n</style>\n<table border=\"1\" class=\"dataframe\">\n  <thead>\n    <tr style=\"text-align: right;\">\n      <th></th>\n      <th>index</th>\n      <th>name</th>\n      <th>esc</th>\n      <th>ida</th>\n      <th>eica</th>\n      <th>wcst</th>\n      <th>_id</th>\n    </tr>\n  </thead>\n  <tbody>\n    <tr>\n      <th>0</th>\n      <td>0</td>\n      <td>Fernando</td>\n      <td>7</td>\n      <td>15</td>\n      <td>1</td>\n      <td>0</td>\n      <td>ObjectId('649f17e0b9995c27c863da8c')</td>\n    </tr>\n    <tr>\n      <th>1</th>\n      <td>1</td>\n      <td>Italo</td>\n      <td>7</td>\n      <td>14</td>\n      <td>3</td>\n      <td>0</td>\n      <td>ObjectId('649f07ddb9995c27c863da68')</td>\n    </tr>\n    <tr>\n      <th>2</th>\n      <td>2</td>\n      <td>Julia Almeida</td>\n      <td>7</td>\n      <td>13</td>\n      <td>2</td>\n      <td>0</td>\n      <td>ObjectId('649f06afb9995c27c863da66')</td>\n    </tr>\n    <tr>\n      <th>3</th>\n      <td>3</td>\n      <td>Júlya Cunha</td>\n      <td>7</td>\n      <td>13</td>\n      <td>1</td>\n      <td>0</td>\n      <td>ObjectId('649f1732b9995c27c863da88')</td>\n    </tr>\n    <tr>\n      <th>4</th>\n      <td>4</td>\n      <td>leandro</td>\n      <td>7</td>\n      <td>15</td>\n      <td>2</td>\n      <td>0</td>\n      <td>ObjectId('649f05dcb9995c27c863da64')</td>\n    </tr>\n    <tr>\n      <th>5</th>\n      <td>5</td>\n      <td>pedro</td>\n      <td>7</td>\n      <td>14</td>\n      <td>2</td>\n      <td>0</td>\n      <td>ObjectId('649f0f5bb9995c27c863da6e')</td>\n    </tr>\n    <tr>\n      <th>6</th>\n      <td>6</td>\n      <td>pedro</td>\n      <td>7</td>\n      <td>14</td>\n      <td>4</td>\n      <td>0</td>\n      <td>ObjectId('649f144db9995c27c863da84')</td>\n    </tr>\n    <tr>\n      <th>7</th>\n      <td>7</td>\n      <td>raissa</td>\n      <td>7</td>\n      <td>12</td>\n      <td>2</td>\n      <td>0</td>\n      <td>ObjectId('649f10ceb9995c27c863da80')</td>\n    </tr>\n    <tr>\n      <th>8</th>\n      <td>8</td>\n      <td>thimberly</td>\n      <td>7</td>\n      <td>14</td>\n      <td>3</td>\n      <td>0</td>\n      <td>ObjectId('649f0f9ab9995c27c863da70')</td>\n    </tr>\n    <tr>\n      <th>9</th>\n      <td>9</td>\n      <td>thimberly</td>\n      <td>7</td>\n      <td>14</td>\n      <td>11</td>\n      <td>0</td>\n      <td>ObjectId('649f0ffab9995c27c863da75')</td>\n    </tr>\n  </tbody>\n</table>\n</div>"
     },
     "execution_count": 17,
     "metadata": {},
     "output_type": "execute_result"
    }
   ],
   "source": [
    "from datetime import datetime, timedelta\n",
    "past = datetime.now() - timedelta(days=4)\n",
    "present = datetime.now()\n",
    "now = pd.Timestamp.now() #.tz_localize(None).tz_convert(None)\n",
    "df['eica'] = [sum([1 for g in t  if \"game\" in g]) for t in df.games_l.tolist()]\n",
    "df['wcst'] = [sum([1 for g in t  if \"wcst\" in g]) for t in df.games_l.tolist()]\n",
    "df[\"esc\"] = df[\"ano\"].apply(lambda x: int(str(x)[3:]))\n",
    "df[\"ida\"] = df[\"idade\"].apply(lambda x: int(str(x)[4:])+5)\n",
    "# df[\"old\"] = df[\"time\"].apply(lambda x: pd.to_timedelta(present-datetime.strptime(x[:-13], '%Y-%m-%d %H:%M:%S'), unit='D'))\n",
    "# df[\"old\"] = df[\"time\"].apply(lambda x: pd.to_timedelta(now-pd.to_datetime(x), unit='D'))\n",
    "df[\"old\"] = df[\"time\"].apply(lambda x: now - pd.to_datetime(x).tz_localize(None))\n",
    "df_rec = df.drop(df[(df.old > timedelta(days=4)) | (df[\"esc\"]<6)| (df[\"esc\"]>9)].index, inplace=False)\n",
    "# df_rec = df_rec.drop(df_rec[df_rec.old > timedelta(days=4)].index, inplace=False)\n",
    "# df_rec = df_rec.groupby(['name','esc', \"ida\"], as_index=False).agg({'eica':'sum', 'wcst':'sum', \"_id\":\"first\"}).reset_index()\n",
    "df_rec = df_rec.groupby(['name','esc', \"ida\", \"eica\",\"wcst\", \"_id\"], as_index=False) .agg({\"_id\":\"first\"}).reset_index()#.reset_index()\n",
    "# dfclean = df_rec.drop(columns=[\"_id\", \"games\", \"time\", \"games_l\", \"idade\", \"ano\"], inplace=False)\n",
    "df_rec"
   ]
  },
  {
   "cell_type": "markdown",
   "metadata": {
    "pycharm": {
     "name": "#%% md\n"
    }
   },
   "source": [
    "## Converte ObjectId para Identificador"
   ]
  },
  {
   "cell_type": "code",
   "execution_count": 18,
   "metadata": {
    "pycharm": {
     "name": "#%%\n"
    },
    "ExecuteTime": {
     "end_time": "2023-07-04T00:55:58.009502025Z",
     "start_time": "2023-07-04T00:55:57.974422015Z"
    }
   },
   "outputs": [
    {
     "data": {
      "text/plain": "   index           name  esc  ida  eica  wcst                       oid\n0      0       Fernando    7   15     1     0  649f17e0b9995c27c863da8c\n1      1          Italo    7   14     3     0  649f07ddb9995c27c863da68\n2      2  Julia Almeida    7   13     2     0  649f06afb9995c27c863da66\n3      3    Júlya Cunha    7   13     1     0  649f1732b9995c27c863da88\n4      4        leandro    7   15     2     0  649f05dcb9995c27c863da64\n5      5          pedro    7   14     2     0  649f0f5bb9995c27c863da6e\n6      6          pedro    7   14     4     0  649f144db9995c27c863da84\n7      7         raissa    7   12     2     0  649f10ceb9995c27c863da80\n8      8      thimberly    7   14     3     0  649f0f9ab9995c27c863da70\n9      9      thimberly    7   14    11     0  649f0ffab9995c27c863da75",
      "text/html": "<div>\n<style scoped>\n    .dataframe tbody tr th:only-of-type {\n        vertical-align: middle;\n    }\n\n    .dataframe tbody tr th {\n        vertical-align: top;\n    }\n\n    .dataframe thead th {\n        text-align: right;\n    }\n</style>\n<table border=\"1\" class=\"dataframe\">\n  <thead>\n    <tr style=\"text-align: right;\">\n      <th></th>\n      <th>index</th>\n      <th>name</th>\n      <th>esc</th>\n      <th>ida</th>\n      <th>eica</th>\n      <th>wcst</th>\n      <th>oid</th>\n    </tr>\n  </thead>\n  <tbody>\n    <tr>\n      <th>0</th>\n      <td>0</td>\n      <td>Fernando</td>\n      <td>7</td>\n      <td>15</td>\n      <td>1</td>\n      <td>0</td>\n      <td>649f17e0b9995c27c863da8c</td>\n    </tr>\n    <tr>\n      <th>1</th>\n      <td>1</td>\n      <td>Italo</td>\n      <td>7</td>\n      <td>14</td>\n      <td>3</td>\n      <td>0</td>\n      <td>649f07ddb9995c27c863da68</td>\n    </tr>\n    <tr>\n      <th>2</th>\n      <td>2</td>\n      <td>Julia Almeida</td>\n      <td>7</td>\n      <td>13</td>\n      <td>2</td>\n      <td>0</td>\n      <td>649f06afb9995c27c863da66</td>\n    </tr>\n    <tr>\n      <th>3</th>\n      <td>3</td>\n      <td>Júlya Cunha</td>\n      <td>7</td>\n      <td>13</td>\n      <td>1</td>\n      <td>0</td>\n      <td>649f1732b9995c27c863da88</td>\n    </tr>\n    <tr>\n      <th>4</th>\n      <td>4</td>\n      <td>leandro</td>\n      <td>7</td>\n      <td>15</td>\n      <td>2</td>\n      <td>0</td>\n      <td>649f05dcb9995c27c863da64</td>\n    </tr>\n    <tr>\n      <th>5</th>\n      <td>5</td>\n      <td>pedro</td>\n      <td>7</td>\n      <td>14</td>\n      <td>2</td>\n      <td>0</td>\n      <td>649f0f5bb9995c27c863da6e</td>\n    </tr>\n    <tr>\n      <th>6</th>\n      <td>6</td>\n      <td>pedro</td>\n      <td>7</td>\n      <td>14</td>\n      <td>4</td>\n      <td>0</td>\n      <td>649f144db9995c27c863da84</td>\n    </tr>\n    <tr>\n      <th>7</th>\n      <td>7</td>\n      <td>raissa</td>\n      <td>7</td>\n      <td>12</td>\n      <td>2</td>\n      <td>0</td>\n      <td>649f10ceb9995c27c863da80</td>\n    </tr>\n    <tr>\n      <th>8</th>\n      <td>8</td>\n      <td>thimberly</td>\n      <td>7</td>\n      <td>14</td>\n      <td>3</td>\n      <td>0</td>\n      <td>649f0f9ab9995c27c863da70</td>\n    </tr>\n    <tr>\n      <th>9</th>\n      <td>9</td>\n      <td>thimberly</td>\n      <td>7</td>\n      <td>14</td>\n      <td>11</td>\n      <td>0</td>\n      <td>649f0ffab9995c27c863da75</td>\n    </tr>\n  </tbody>\n</table>\n</div>"
     },
     "execution_count": 18,
     "metadata": {},
     "output_type": "execute_result"
    }
   ],
   "source": [
    "import re\n",
    "matches = [re.findall(r\"'(.+?)'\",text)[0] for text in df_rec._id.to_list()]\n",
    "df_rec[\"oid\"] = matches\n",
    "dfo = df_rec.drop('_id', axis=1)\n",
    " #.drop(df_rec[\"_id\"])\n",
    "# df_rec.oid[1]\n",
    "dfo"
   ]
  },
  {
   "cell_type": "markdown",
   "metadata": {
    "pycharm": {
     "name": "#%% md\n"
    }
   },
   "source": [
    "## Testa a recuperação dos dados de um jogador"
   ]
  },
  {
   "cell_type": "code",
   "execution_count": 19,
   "metadata": {
    "pycharm": {
     "name": "#%%\n"
    },
    "ExecuteTime": {
     "end_time": "2023-07-04T00:56:00.396649186Z",
     "start_time": "2023-07-04T00:56:00.161332538Z"
    }
   },
   "outputs": [
    {
     "name": "stdout",
     "output_type": "stream",
     "text": [
      "27 0\n"
     ]
    }
   ],
   "source": [
    "import urllib.request, json\n",
    "import pandas as pd\n",
    "# ObjectId('649f0ffab9995c27c863da75')\n",
    "def dt(g):\n",
    "    k, l = g[\"scorer\"][0][\"time\"], g[\"scorer\"][-1][\"time\"]\n",
    "    k, l = pd.to_datetime(k).tz_localize(None), pd.to_datetime(l).tz_localize(None)\n",
    "    return pd.Timedelta(l-k, unit=\"min\").seconds //60\n",
    "\n",
    "def gm(oid):\n",
    "    # furl = 'https://games.alite.selfip.org/score/games?oid=6477cf19f626d3cb95e08c92'\n",
    "    # furl = f'https://games.alite.selfip.org/score/games?oid=649f0ffab9995c27c863da75'\n",
    "    furl = f'https://games.alite.selfip.org/score/games?oid={oid}'\n",
    "    with urllib.request.urlopen(furl) as url:\n",
    "        data = json.loads(url.read().decode())\n",
    "        # df = pd.DataFrame(data)\n",
    "        game = max((dt(g)for g in data if g[\"scorer\"] and g[\"game\"] ==\"game\"), default=0)\n",
    "        wsct = max((dt(g)for g in data if g[\"scorer\"] and g[\"game\"] ==\"wsct\"), default=0)\n",
    "        return f\"{game} {wsct}\"\n",
    "print(gm(\"649f0ffab9995c27c863da75\"))"
   ]
  },
  {
   "cell_type": "markdown",
   "metadata": {
    "pycharm": {
     "name": "#%% md\n"
    }
   },
   "source": [
    "## Listagem dos tempos de Jogo por jogador"
   ]
  },
  {
   "cell_type": "code",
   "execution_count": 20,
   "metadata": {
    "pycharm": {
     "name": "#%%\n"
    },
    "ExecuteTime": {
     "end_time": "2023-07-04T00:56:03.046392754Z",
     "start_time": "2023-07-04T00:56:02.168044967Z"
    }
   },
   "outputs": [
    {
     "data": {
      "text/plain": "   index           name  wtmx  gtmx  eica  wcst  esc  ida\n0      0       Fernando     0    18     1     0    7   15\n1      1          Italo     0    29     3     0    7   14\n2      2  Julia Almeida     0    32     2     0    7   13\n3      3    Júlya Cunha     0    24     1     0    7   13\n4      4        leandro     0    37     2     0    7   15\n5      5          pedro     0    21     6     0    7   14\n6      6         raissa     0    37     2     0    7   12\n7      7      thimberly     0    27    14     0    7   14",
      "text/html": "<div>\n<style scoped>\n    .dataframe tbody tr th:only-of-type {\n        vertical-align: middle;\n    }\n\n    .dataframe tbody tr th {\n        vertical-align: top;\n    }\n\n    .dataframe thead th {\n        text-align: right;\n    }\n</style>\n<table border=\"1\" class=\"dataframe\">\n  <thead>\n    <tr style=\"text-align: right;\">\n      <th></th>\n      <th>index</th>\n      <th>name</th>\n      <th>wtmx</th>\n      <th>gtmx</th>\n      <th>eica</th>\n      <th>wcst</th>\n      <th>esc</th>\n      <th>ida</th>\n    </tr>\n  </thead>\n  <tbody>\n    <tr>\n      <th>0</th>\n      <td>0</td>\n      <td>Fernando</td>\n      <td>0</td>\n      <td>18</td>\n      <td>1</td>\n      <td>0</td>\n      <td>7</td>\n      <td>15</td>\n    </tr>\n    <tr>\n      <th>1</th>\n      <td>1</td>\n      <td>Italo</td>\n      <td>0</td>\n      <td>29</td>\n      <td>3</td>\n      <td>0</td>\n      <td>7</td>\n      <td>14</td>\n    </tr>\n    <tr>\n      <th>2</th>\n      <td>2</td>\n      <td>Julia Almeida</td>\n      <td>0</td>\n      <td>32</td>\n      <td>2</td>\n      <td>0</td>\n      <td>7</td>\n      <td>13</td>\n    </tr>\n    <tr>\n      <th>3</th>\n      <td>3</td>\n      <td>Júlya Cunha</td>\n      <td>0</td>\n      <td>24</td>\n      <td>1</td>\n      <td>0</td>\n      <td>7</td>\n      <td>13</td>\n    </tr>\n    <tr>\n      <th>4</th>\n      <td>4</td>\n      <td>leandro</td>\n      <td>0</td>\n      <td>37</td>\n      <td>2</td>\n      <td>0</td>\n      <td>7</td>\n      <td>15</td>\n    </tr>\n    <tr>\n      <th>5</th>\n      <td>5</td>\n      <td>pedro</td>\n      <td>0</td>\n      <td>21</td>\n      <td>6</td>\n      <td>0</td>\n      <td>7</td>\n      <td>14</td>\n    </tr>\n    <tr>\n      <th>6</th>\n      <td>6</td>\n      <td>raissa</td>\n      <td>0</td>\n      <td>37</td>\n      <td>2</td>\n      <td>0</td>\n      <td>7</td>\n      <td>12</td>\n    </tr>\n    <tr>\n      <th>7</th>\n      <td>7</td>\n      <td>thimberly</td>\n      <td>0</td>\n      <td>27</td>\n      <td>14</td>\n      <td>0</td>\n      <td>7</td>\n      <td>14</td>\n    </tr>\n  </tbody>\n</table>\n</div>"
     },
     "execution_count": 20,
     "metadata": {},
     "output_type": "execute_result"
    }
   ],
   "source": [
    "dfo[\"ws_ga\"] = dfo[\"oid\"].apply(lambda x: gm(x))\n",
    "dfo[[ 'gt', 'wt']] = dfo['ws_ga'].str.split(' ', expand=True)\n",
    "dfo['wtmx'] = dfo['wt'].apply(lambda x: int(x))\n",
    "dfo['gtmx'] = dfo['gt'].apply(lambda x: int(x))\n",
    "# dfo[['wt', 'gt']] = dfo['ws_ga'].str.extract('(\\d+) (\\d+)', expand=True)\n",
    "# def inter(k, l):\n",
    "#     return int(k), int(l)\n",
    "# dfo[['wt1', 'gt1']] = dfo.apply(lambda x: inter(x[\"wt\"], x[\"gt\"]), axis=1)\n",
    "# def inter(ard):\n",
    "#     return int(ard[\"wt\"]), int(ard[\"gt\"])\n",
    "# dfo[['wt1', 'gt1']] = dfo.apply(inter, axis=1)\n",
    "\n",
    "dfo = dfo.groupby(\n",
    "    ['name','esc', \"ida\"], as_index=False\n",
    ").agg({'wtmx':'sum', 'gtmx':'sum', 'eica':'sum', 'wcst':'sum', \"esc\":\"first\", \"ida\":\"first\"}).reset_index()\n",
    "\n",
    "dfo\n",
    "# df.games"
   ]
  },
  {
   "cell_type": "markdown",
   "metadata": {
    "pycharm": {
     "name": "#%% md\n"
    }
   },
   "source": [
    "# Recuperação e plotagem das jogadas"
   ]
  },
  {
   "cell_type": "markdown",
   "metadata": {
    "pycharm": {
     "name": "#%% md\n"
    }
   },
   "source": [
    "## Pedido dos dados ao servidor e converte num arcabouço de dados"
   ]
  },
  {
   "cell_type": "code",
   "execution_count": 28,
   "metadata": {
    "pycharm": {
     "name": "#%%\n"
    },
    "ExecuteTime": {
     "end_time": "2023-07-04T01:15:28.245111492Z",
     "start_time": "2023-07-04T01:15:27.956518537Z"
    }
   },
   "outputs": [
    {
     "data": {
      "text/plain": "<Figure size 1500x800 with 1 Axes>",
      "image/png": "[encoded data removed]"
     },
     "metadata": {},
     "output_type": "display_data"
    }
   ],
   "source": [
    "import seaborn as sns\n",
    "from matplotlib import pyplot as plt\n",
    "dfx = dfo #.explode('games_l')\n",
    "# dfm = pd.melt(df, 'games_l')\n",
    "_ = plt.figure(figsize=(15,8))\n",
    "chart = sns.barplot(data=dfx, x=\"name\", y=\"gtmx\", hue=\"ida\")\n",
    "_ = chart.set(title='Contagem dos Jogos', ylabel='Número de Jogos', xlabel=\"Participantes\")\n",
    "_ = chart.set_xticklabels(chart.get_xticklabels(), rotation=45, horizontalalignment='right')\n"
   ]
  }
 ],
 "metadata": {
  "kernelspec": {
   "display_name": "Python 3 (ipykernel)",
   "language": "python",
   "name": "python3"
  },
  "language_info": {
   "codemirror_mode": {
    "name": "ipython",
    "version": 3
   },
   "file_extension": ".py",
   "mimetype": "text/x-python",
   "name": "python",
   "nbconvert_exporter": "python",
   "pygments_lexer": "ipython3",
   "version": "3.10.6"
  }
 },
 "nbformat": 4,
 "nbformat_minor": 1
}
